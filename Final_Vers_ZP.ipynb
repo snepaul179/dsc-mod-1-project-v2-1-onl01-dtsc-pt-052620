{
 "cells": [
  {
   "cell_type": "markdown",
   "metadata": {},
   "source": [
    "## Final Project Submission\n",
    "\n",
    "Please fill out:\n",
    "* Student name: \n",
    "* Student pace: self paced / part time / full time\n",
    "* Scheduled project review date/time: \n",
    "* Instructor name: \n",
    "* Blog post URL:\n"
   ]
  },
  {
   "cell_type": "code",
   "execution_count": 1,
   "metadata": {},
   "outputs": [],
   "source": [
    "import sqlite3\n",
    "import pandas as pd\n",
    "import requests\n",
    "from bs4 import BeautifulSoup"
   ]
  },
  {
   "cell_type": "markdown",
   "metadata": {},
   "source": [
    "I imported in a dataset provided by IMDB's interface. Scraping the data from their website turned out to be unnecessary."
   ]
  },
  {
   "cell_type": "markdown",
   "metadata": {},
   "source": [
    "This database is still missing the cost to make movie and the profit. We found a database containing the production costs, worldwide and domestic gross income. This information is not given to us in a file unfortunately like the previous dataset was, so we will have to employ some datascraping to pull this data off the website. We are grabbing our data from https://www.the-numbers.com/movie/budgets/all\n",
    "I defined 2 functions to ease the load since I need to run a separate iteration of this script in order to catch the first page due to it having a unique url. "
   ]
  },
  {
   "cell_type": "code",
   "execution_count": 85,
   "metadata": {},
   "outputs": [],
   "source": [
    "'''Takes in the URL as an argument, and returns the chart that the movies are in.'''\n",
    "def html_parse(url):\n",
    "    html_page = requests.get(url, timeout=5)\n",
    "    soup = BeautifulSoup(html_page.content, 'html.parser')\n",
    "    chart = soup.find(id = 'page_filling_chart')\n",
    "    movie_container = chart.findAll('tr') #grabs all movie entries on the page and puts into a list\n",
    "    return movie_container"
   ]
  },
  {
   "cell_type": "code",
   "execution_count": 86,
   "metadata": {},
   "outputs": [],
   "source": [
    "'''Takes in the row containing the movie title, profits, release date, and costs and returns a list of those.'''\n",
    "def movie_extract(data_container):\n",
    "        release_date = data_container[1].text #release date\n",
    "        movie_name = data_container[2].text #name of movie\n",
    "        prod_budget = data_container[3].get_text(strip=True) #production budget\n",
    "        gross_dom = data_container[4].get_text(strip=True) #gross domestic \n",
    "        gross_world = data_container[5].get_text(strip=True) #gross worldwide\n",
    "        #we want to strip all of the newline junk off of the text.\n",
    "        \n",
    "        return [release_date, movie_name, prod_budget, gross_dom, gross_world]"
   ]
  },
  {
   "cell_type": "markdown",
   "metadata": {},
   "source": [
    "This is the initial run of the function due to the URL being unique for the very first page."
   ]
  },
  {
   "cell_type": "code",
   "execution_count": 87,
   "metadata": {},
   "outputs": [],
   "source": [
    "df = pd.DataFrame(columns = ['Release_Date', 'Movie_Name', 'Production_Budget', 'Gross_Domestic', 'Gross_Worldwide'])\n",
    "url = \"https://www.the-numbers.com/movie/budgets/all\"\n",
    "movie_container = html_parse(url)\n",
    "\n",
    "#for loop here to iterate through the list of movies in movie_container\n",
    "for u in range(1,101):\n",
    "    data_container = movie_container[u].findAll('td')\n",
    "\n",
    "    data_series = movie_extract(data_container)\n",
    "    \n",
    "    a_series = pd.Series(data_series, index = df.columns)\n",
    "    df = df.append(a_series, ignore_index=True)"
   ]
  },
  {
   "cell_type": "markdown",
   "metadata": {},
   "source": [
    "Iterates through all the pages utilizing URL hacking to find all of the pages."
   ]
  },
  {
   "cell_type": "code",
   "execution_count": 88,
   "metadata": {},
   "outputs": [],
   "source": [
    "for i in range(2,61): #change 4 to 61 for all\n",
    "    url = \"https://www.the-numbers.com/movie/budgets/all/{}01\".format(i)\n",
    "    movie_container = html_parse(url)\n",
    "\n",
    "    #for loop here to iterate through the list of movies in movie_container\n",
    "    for u in range(1,101): \n",
    "        if i == 60 and u == 44:\n",
    "            break\n",
    "        data_container = movie_container[u].findAll('td') #the tag we want to look through\n",
    "\n",
    "        data_series = movie_extract(data_container)\n",
    "        \n",
    "        a_series = pd.Series(data_series, index = df.columns)\n",
    "        df = df.append(a_series, ignore_index=True)\n"
   ]
  },
  {
   "cell_type": "code",
   "execution_count": 90,
   "metadata": {},
   "outputs": [],
   "source": [
    "df.to_csv('zippedData/movieMoney.csv') #saving it to a CSV so I don't have to scrape everytime I want to look at the data"
   ]
  },
  {
   "cell_type": "code",
   "execution_count": 4,
   "metadata": {
    "scrolled": true
   },
   "outputs": [
    {
     "data": {
      "text/html": [
       "<div>\n",
       "<style scoped>\n",
       "    .dataframe tbody tr th:only-of-type {\n",
       "        vertical-align: middle;\n",
       "    }\n",
       "\n",
       "    .dataframe tbody tr th {\n",
       "        vertical-align: top;\n",
       "    }\n",
       "\n",
       "    .dataframe thead th {\n",
       "        text-align: right;\n",
       "    }\n",
       "</style>\n",
       "<table border=\"1\" class=\"dataframe\">\n",
       "  <thead>\n",
       "    <tr style=\"text-align: right;\">\n",
       "      <th></th>\n",
       "      <th>Release_Date</th>\n",
       "      <th>Movie_Name</th>\n",
       "      <th>Production_Budget</th>\n",
       "      <th>Gross_Domestic</th>\n",
       "      <th>Gross_Worldwide</th>\n",
       "    </tr>\n",
       "  </thead>\n",
       "  <tbody>\n",
       "    <tr>\n",
       "      <th>0</th>\n",
       "      <td>Apr 23, 2019</td>\n",
       "      <td>Avengers: Endgame</td>\n",
       "      <td>$400,000,000</td>\n",
       "      <td>$858,373,000</td>\n",
       "      <td>$2,797,800,564</td>\n",
       "    </tr>\n",
       "    <tr>\n",
       "      <th>1</th>\n",
       "      <td>May 20, 2011</td>\n",
       "      <td>Pirates of the Caribbean: On Stranger Tides</td>\n",
       "      <td>$379,000,000</td>\n",
       "      <td>$241,063,875</td>\n",
       "      <td>$1,045,663,875</td>\n",
       "    </tr>\n",
       "    <tr>\n",
       "      <th>2</th>\n",
       "      <td>Apr 22, 2015</td>\n",
       "      <td>Avengers: Age of Ultron</td>\n",
       "      <td>$365,000,000</td>\n",
       "      <td>$459,005,868</td>\n",
       "      <td>$1,396,099,202</td>\n",
       "    </tr>\n",
       "    <tr>\n",
       "      <th>3</th>\n",
       "      <td>Dec 16, 2015</td>\n",
       "      <td>Star Wars Ep. VII: The Force Awakens</td>\n",
       "      <td>$306,000,000</td>\n",
       "      <td>$936,662,225</td>\n",
       "      <td>$2,065,478,084</td>\n",
       "    </tr>\n",
       "    <tr>\n",
       "      <th>4</th>\n",
       "      <td>Apr 25, 2018</td>\n",
       "      <td>Avengers: Infinity War</td>\n",
       "      <td>$300,000,000</td>\n",
       "      <td>$678,815,482</td>\n",
       "      <td>$2,048,359,754</td>\n",
       "    </tr>\n",
       "    <tr>\n",
       "      <th>...</th>\n",
       "      <td>...</td>\n",
       "      <td>...</td>\n",
       "      <td>...</td>\n",
       "      <td>...</td>\n",
       "      <td>...</td>\n",
       "    </tr>\n",
       "    <tr>\n",
       "      <th>5938</th>\n",
       "      <td>Unknown</td>\n",
       "      <td>Red 11</td>\n",
       "      <td>$7,000</td>\n",
       "      <td>$0</td>\n",
       "      <td>$0</td>\n",
       "    </tr>\n",
       "    <tr>\n",
       "      <th>5939</th>\n",
       "      <td>Apr 2, 1999</td>\n",
       "      <td>Following</td>\n",
       "      <td>$6,000</td>\n",
       "      <td>$48,482</td>\n",
       "      <td>$240,495</td>\n",
       "    </tr>\n",
       "    <tr>\n",
       "      <th>5940</th>\n",
       "      <td>Jul 13, 2005</td>\n",
       "      <td>Return to the Land of Wonders</td>\n",
       "      <td>$5,000</td>\n",
       "      <td>$1,338</td>\n",
       "      <td>$1,338</td>\n",
       "    </tr>\n",
       "    <tr>\n",
       "      <th>5941</th>\n",
       "      <td>Sep 29, 2015</td>\n",
       "      <td>A Plague So Pleasant</td>\n",
       "      <td>$1,400</td>\n",
       "      <td>$0</td>\n",
       "      <td>$0</td>\n",
       "    </tr>\n",
       "    <tr>\n",
       "      <th>5942</th>\n",
       "      <td>Aug 5, 2005</td>\n",
       "      <td>My Date With Drew</td>\n",
       "      <td>$1,100</td>\n",
       "      <td>$181,041</td>\n",
       "      <td>$181,041</td>\n",
       "    </tr>\n",
       "  </tbody>\n",
       "</table>\n",
       "<p>5943 rows × 5 columns</p>\n",
       "</div>"
      ],
      "text/plain": [
       "      Release_Date                                   Movie_Name  \\\n",
       "0     Apr 23, 2019                            Avengers: Endgame   \n",
       "1     May 20, 2011  Pirates of the Caribbean: On Stranger Tides   \n",
       "2     Apr 22, 2015                      Avengers: Age of Ultron   \n",
       "3     Dec 16, 2015         Star Wars Ep. VII: The Force Awakens   \n",
       "4     Apr 25, 2018                       Avengers: Infinity War   \n",
       "...            ...                                          ...   \n",
       "5938       Unknown                                       Red 11   \n",
       "5939   Apr 2, 1999                                    Following   \n",
       "5940  Jul 13, 2005                Return to the Land of Wonders   \n",
       "5941  Sep 29, 2015                         A Plague So Pleasant   \n",
       "5942   Aug 5, 2005                            My Date With Drew   \n",
       "\n",
       "     Production_Budget Gross_Domestic Gross_Worldwide  \n",
       "0         $400,000,000   $858,373,000  $2,797,800,564  \n",
       "1         $379,000,000   $241,063,875  $1,045,663,875  \n",
       "2         $365,000,000   $459,005,868  $1,396,099,202  \n",
       "3         $306,000,000   $936,662,225  $2,065,478,084  \n",
       "4         $300,000,000   $678,815,482  $2,048,359,754  \n",
       "...                ...            ...             ...  \n",
       "5938            $7,000             $0              $0  \n",
       "5939            $6,000        $48,482        $240,495  \n",
       "5940            $5,000         $1,338          $1,338  \n",
       "5941            $1,400             $0              $0  \n",
       "5942            $1,100       $181,041        $181,041  \n",
       "\n",
       "[5943 rows x 5 columns]"
      ]
     },
     "execution_count": 4,
     "metadata": {},
     "output_type": "execute_result"
    }
   ],
   "source": [
    "df.head()"
   ]
  },
  {
   "cell_type": "markdown",
   "metadata": {},
   "source": [
    "Putting in the datascrubbing + merging that was done by Simran around here I guess"
   ]
  },
  {
   "cell_type": "markdown",
   "metadata": {},
   "source": [
    "Things we want to look at.\n",
    "1) Day of release affects profit\n",
    "2) Genre of movie affects profit\n",
    "3) Actors in movie affects profit\n",
    "4) Season of release affects profit\n",
    "5) international sales\n",
    "6) average number of movies to make\n",
    "7) number of reviews and gross #scatter plot\n",
    "\n",
    "\n",
    "\n",
    "\n",
    "1) Genre of movie affects profit\n",
    "    a) season for the genre to be released\n",
    "    boxplot\n",
    "    b) What genres succeed internationally\n",
    "    boxplot x- genres, y profit\n",
    "2) Number of reviews and profit\n",
    "    a)scatter plot, x is number of votes,y is profit #see if number of views is what matters\n",
    "        i) color code the review rating, 10-8 green, 7-5 yellow etc...\n",
    "    b) scatter plot, x is number of votes, y is production cost #see if higher production costs get more views\n",
    "3) How does the number of movies created by a studio affect the average profit\n",
    "    a)do franchises do better"
   ]
  },
  {
   "cell_type": "markdown",
   "metadata": {},
   "source": [
    "Starting to look at and scrub the data. The first step is going to be converting the datatypes into a usable form. "
   ]
  },
  {
   "cell_type": "code",
   "execution_count": 2,
   "metadata": {},
   "outputs": [],
   "source": [
    "df = pd.read_csv('zippedData/movieMoney.csv', index_col=0)"
   ]
  },
  {
   "cell_type": "code",
   "execution_count": 3,
   "metadata": {},
   "outputs": [
    {
     "data": {
      "text/plain": [
       "Release_Date         object\n",
       "Movie_Name           object\n",
       "Production_Budget    object\n",
       "Gross_Domestic       object\n",
       "Gross_Worldwide      object\n",
       "dtype: object"
      ]
     },
     "execution_count": 3,
     "metadata": {},
     "output_type": "execute_result"
    }
   ],
   "source": [
    "df.dtypes"
   ]
  },
  {
   "cell_type": "code",
   "execution_count": 4,
   "metadata": {},
   "outputs": [
    {
     "data": {
      "text/html": [
       "<div>\n",
       "<style scoped>\n",
       "    .dataframe tbody tr th:only-of-type {\n",
       "        vertical-align: middle;\n",
       "    }\n",
       "\n",
       "    .dataframe tbody tr th {\n",
       "        vertical-align: top;\n",
       "    }\n",
       "\n",
       "    .dataframe thead th {\n",
       "        text-align: right;\n",
       "    }\n",
       "</style>\n",
       "<table border=\"1\" class=\"dataframe\">\n",
       "  <thead>\n",
       "    <tr style=\"text-align: right;\">\n",
       "      <th></th>\n",
       "      <th>Release_Date</th>\n",
       "      <th>Movie_Name</th>\n",
       "      <th>Production_Budget</th>\n",
       "      <th>Gross_Domestic</th>\n",
       "      <th>Gross_Worldwide</th>\n",
       "    </tr>\n",
       "  </thead>\n",
       "  <tbody>\n",
       "    <tr>\n",
       "      <th>1502</th>\n",
       "      <td>2022-12-16</td>\n",
       "      <td>Heaven and Hell</td>\n",
       "      <td>40000000</td>\n",
       "      <td>0</td>\n",
       "      <td>0</td>\n",
       "    </tr>\n",
       "    <tr>\n",
       "      <th>602</th>\n",
       "      <td>2021-01-15</td>\n",
       "      <td>355</td>\n",
       "      <td>75000000</td>\n",
       "      <td>0</td>\n",
       "      <td>0</td>\n",
       "    </tr>\n",
       "    <tr>\n",
       "      <th>108</th>\n",
       "      <td>2021-01-01</td>\n",
       "      <td>Moonfall</td>\n",
       "      <td>150000000</td>\n",
       "      <td>0</td>\n",
       "      <td>0</td>\n",
       "    </tr>\n",
       "    <tr>\n",
       "      <th>133</th>\n",
       "      <td>2020-12-23</td>\n",
       "      <td>Top Gun: Maverick</td>\n",
       "      <td>140000000</td>\n",
       "      <td>0</td>\n",
       "      <td>0</td>\n",
       "    </tr>\n",
       "    <tr>\n",
       "      <th>20</th>\n",
       "      <td>2020-11-12</td>\n",
       "      <td>No Time to Die</td>\n",
       "      <td>250000000</td>\n",
       "      <td>0</td>\n",
       "      <td>0</td>\n",
       "    </tr>\n",
       "  </tbody>\n",
       "</table>\n",
       "</div>"
      ],
      "text/plain": [
       "     Release_Date         Movie_Name  Production_Budget  Gross_Domestic  \\\n",
       "1502   2022-12-16    Heaven and Hell           40000000               0   \n",
       "602    2021-01-15                355           75000000               0   \n",
       "108    2021-01-01           Moonfall          150000000               0   \n",
       "133    2020-12-23  Top Gun: Maverick          140000000               0   \n",
       "20     2020-11-12     No Time to Die          250000000               0   \n",
       "\n",
       "      Gross_Worldwide  \n",
       "1502                0  \n",
       "602                 0  \n",
       "108                 0  \n",
       "133                 0  \n",
       "20                  0  "
      ]
     },
     "execution_count": 4,
     "metadata": {},
     "output_type": "execute_result"
    }
   ],
   "source": [
    "df['Movie_Name'] = df['Movie_Name'].astype('string')\n",
    "\n",
    "df['Release_Date'] = pd.to_datetime(df['Release_Date'], errors='coerce')\n",
    "\n",
    "df['Production_Budget'] = df['Production_Budget'].str.replace('$', '')\n",
    "df['Production_Budget'] = df['Production_Budget'].str.replace(',', '')\n",
    "df['Production_Budget'] = df['Production_Budget'].astype(int)\n",
    "\n",
    "df['Gross_Domestic'] = df['Gross_Domestic'].str.replace('$', '')\n",
    "df['Gross_Domestic'] = df['Gross_Domestic'].str.replace(',', '')\n",
    "df['Gross_Domestic'] = df['Gross_Domestic'].astype(int)\n",
    "\n",
    "df['Gross_Worldwide'] = df['Gross_Worldwide'].str.replace('$', '')\n",
    "df['Gross_Worldwide'] = df['Gross_Worldwide'].str.replace(',', '')\n",
    "df['Gross_Worldwide'] = df['Gross_Worldwide'].astype('int64')\n",
    "\n",
    "df.sort_values('Release_Date', inplace=True, ascending=False) #sort by release date, most recent on top\n",
    "df.head()"
   ]
  },
  {
   "cell_type": "markdown",
   "metadata": {},
   "source": [
    "The second step is to remove the films from the dataframe that haven't happened yet. The next step is to count the number of films that have no budget or not profit to see if they can be removed from the dataset without any problems.\n",
    "\n",
    "Here we are removing films based on time. We've decided that we're only going to look at recent movies, films created in 1980 and on, films that haven't come out yet, and also removing any films that came out this year as well, due to Coronavirus dramatically changing what the movie industry looks like. Movies will likely be back to \"normal\" by the time that we would finish with filming and editing a movie so we'll be able to use traditional data.\n",
    "\n",
    "Alongside that, we'll be looking for any duplicates."
   ]
  },
  {
   "cell_type": "code",
   "execution_count": 5,
   "metadata": {},
   "outputs": [
    {
     "name": "stdout",
     "output_type": "stream",
     "text": [
      "Empty DataFrame\n",
      "Columns: [Release_Date, Movie_Name, Production_Budget, Gross_Domestic, Gross_Worldwide]\n",
      "Index: []\n"
     ]
    }
   ],
   "source": [
    "print(df[df.duplicated()]) #looking for any duplicated rows"
   ]
  },
  {
   "cell_type": "code",
   "execution_count": 6,
   "metadata": {},
   "outputs": [
    {
     "data": {
      "text/html": [
       "<div>\n",
       "<style scoped>\n",
       "    .dataframe tbody tr th:only-of-type {\n",
       "        vertical-align: middle;\n",
       "    }\n",
       "\n",
       "    .dataframe tbody tr th {\n",
       "        vertical-align: top;\n",
       "    }\n",
       "\n",
       "    .dataframe thead th {\n",
       "        text-align: right;\n",
       "    }\n",
       "</style>\n",
       "<table border=\"1\" class=\"dataframe\">\n",
       "  <thead>\n",
       "    <tr style=\"text-align: right;\">\n",
       "      <th></th>\n",
       "      <th>Release_Date</th>\n",
       "      <th>Movie_Name</th>\n",
       "      <th>Production_Budget</th>\n",
       "      <th>Gross_Domestic</th>\n",
       "      <th>Gross_Worldwide</th>\n",
       "    </tr>\n",
       "  </thead>\n",
       "  <tbody>\n",
       "    <tr>\n",
       "      <th>1502</th>\n",
       "      <td>2022-12-16</td>\n",
       "      <td>Heaven and Hell</td>\n",
       "      <td>40000000</td>\n",
       "      <td>0</td>\n",
       "      <td>0</td>\n",
       "    </tr>\n",
       "    <tr>\n",
       "      <th>602</th>\n",
       "      <td>2021-01-15</td>\n",
       "      <td>355</td>\n",
       "      <td>75000000</td>\n",
       "      <td>0</td>\n",
       "      <td>0</td>\n",
       "    </tr>\n",
       "    <tr>\n",
       "      <th>108</th>\n",
       "      <td>2021-01-01</td>\n",
       "      <td>Moonfall</td>\n",
       "      <td>150000000</td>\n",
       "      <td>0</td>\n",
       "      <td>0</td>\n",
       "    </tr>\n",
       "    <tr>\n",
       "      <th>133</th>\n",
       "      <td>2020-12-23</td>\n",
       "      <td>Top Gun: Maverick</td>\n",
       "      <td>140000000</td>\n",
       "      <td>0</td>\n",
       "      <td>0</td>\n",
       "    </tr>\n",
       "    <tr>\n",
       "      <th>20</th>\n",
       "      <td>2020-11-12</td>\n",
       "      <td>No Time to Die</td>\n",
       "      <td>250000000</td>\n",
       "      <td>0</td>\n",
       "      <td>0</td>\n",
       "    </tr>\n",
       "  </tbody>\n",
       "</table>\n",
       "</div>"
      ],
      "text/plain": [
       "     Release_Date         Movie_Name  Production_Budget  Gross_Domestic  \\\n",
       "1502   2022-12-16    Heaven and Hell           40000000               0   \n",
       "602    2021-01-15                355           75000000               0   \n",
       "108    2021-01-01           Moonfall          150000000               0   \n",
       "133    2020-12-23  Top Gun: Maverick          140000000               0   \n",
       "20     2020-11-12     No Time to Die          250000000               0   \n",
       "\n",
       "      Gross_Worldwide  \n",
       "1502                0  \n",
       "602                 0  \n",
       "108                 0  \n",
       "133                 0  \n",
       "20                  0  "
      ]
     },
     "execution_count": 6,
     "metadata": {},
     "output_type": "execute_result"
    }
   ],
   "source": [
    "df.head()"
   ]
  },
  {
   "cell_type": "markdown",
   "metadata": {},
   "source": [
    "There doesn't seem to be any duplicated rows in our movie money dataframe."
   ]
  },
  {
   "cell_type": "code",
   "execution_count": 7,
   "metadata": {},
   "outputs": [
    {
     "name": "stdout",
     "output_type": "stream",
     "text": [
      "     Release_Date         Movie_Name  Production_Budget  Gross_Domestic  \\\n",
      "3640   2019-12-31         The Grudge           10000000        21216148   \n",
      "2404   2019-12-27      The Gentlemen           22000000        36296854   \n",
      "1293   2019-12-25       Little Women           42000000       108095955   \n",
      "305    2019-12-25  Spies in Disguise          100000000        66757013   \n",
      "287    2019-12-25               1917          100000000       159227644   \n",
      "\n",
      "      Gross_Worldwide  \n",
      "3640         49503265  \n",
      "2404        111800189  \n",
      "1293        209065465  \n",
      "305         166083937  \n",
      "287         358403321        Release_Date          Movie_Name  Production_Budget  Gross_Domestic  \\\n",
      "5332   1980-02-01             The Fog            1100000        21445318   \n",
      "5680   1980-01-01              Maniac             350000        10000000   \n",
      "4727   1980-01-01        Terror Train            3500000         8000000   \n",
      "1713   1980-01-01  Lion of the Desert           35000000         1500000   \n",
      "4166   1980-01-01     Dressed to Kill            6500000        31899000   \n",
      "\n",
      "      Gross_Worldwide  \n",
      "5332         21445820  \n",
      "5680         10000000  \n",
      "4727          8000000  \n",
      "1713          1500000  \n",
      "4166         31899000  \n"
     ]
    }
   ],
   "source": [
    "df_filtered = df[(df['Release_Date'] < '2020-01-01') & (df['Release_Date'] > '1979-12-31')] \n",
    "print(df_filtered.head(), df_filtered.tail())"
   ]
  },
  {
   "cell_type": "markdown",
   "metadata": {},
   "source": [
    "We're filtered down our money dataset to only contain the films that we are planning on looking at by date."
   ]
  },
  {
   "cell_type": "code",
   "execution_count": 17,
   "metadata": {},
   "outputs": [],
   "source": [
    "title_akas_df.drop(title_akas_df[title_akas_df['region'] != 'US'].index, inplace=True) #holding onto this code incase I want it"
   ]
  },
  {
   "cell_type": "markdown",
   "metadata": {},
   "source": [
    "1) Genre of movie affects profit a) season for the genre to be released boxplot b) What genres succeed internationally boxplot x- genres, y profit"
   ]
  },
  {
   "cell_type": "markdown",
   "metadata": {},
   "source": [
    "This is where we'll be making our genre graph. Will be coming back to this later. "
   ]
  },
  {
   "cell_type": "code",
   "execution_count": 2,
   "metadata": {},
   "outputs": [],
   "source": [
    "import matplotlib.pyplot as plt\n",
    "import seaborn as sns\n",
    "%matplotlib inline"
   ]
  },
  {
   "cell_type": "markdown",
   "metadata": {},
   "source": [
    "Our final dataset containing the movie budget information. "
   ]
  },
  {
   "cell_type": "code",
   "execution_count": 3,
   "metadata": {},
   "outputs": [
    {
     "data": {
      "text/html": [
       "<div>\n",
       "<style scoped>\n",
       "    .dataframe tbody tr th:only-of-type {\n",
       "        vertical-align: middle;\n",
       "    }\n",
       "\n",
       "    .dataframe tbody tr th {\n",
       "        vertical-align: top;\n",
       "    }\n",
       "\n",
       "    .dataframe thead th {\n",
       "        text-align: right;\n",
       "    }\n",
       "</style>\n",
       "<table border=\"1\" class=\"dataframe\">\n",
       "  <thead>\n",
       "    <tr style=\"text-align: right;\">\n",
       "      <th></th>\n",
       "      <th>studio</th>\n",
       "      <th>year</th>\n",
       "      <th>Movie_title</th>\n",
       "      <th>tconst</th>\n",
       "      <th>runtimeMinutes</th>\n",
       "      <th>averageRating</th>\n",
       "      <th>numVotes</th>\n",
       "      <th>region</th>\n",
       "      <th>language</th>\n",
       "      <th>Release_Date</th>\n",
       "      <th>Movie_Name</th>\n",
       "      <th>Production_Budget</th>\n",
       "      <th>Gross_Domestic</th>\n",
       "      <th>Gross_Worldwide</th>\n",
       "      <th>_merge</th>\n",
       "      <th>Gross_Foreign_Only</th>\n",
       "    </tr>\n",
       "  </thead>\n",
       "  <tbody>\n",
       "    <tr>\n",
       "      <th>0</th>\n",
       "      <td>NaN</td>\n",
       "      <td>1994.0</td>\n",
       "      <td>The Shawshank Redemption</td>\n",
       "      <td>tt0111161</td>\n",
       "      <td>142</td>\n",
       "      <td>9.3</td>\n",
       "      <td>2259481.0</td>\n",
       "      <td>60.0</td>\n",
       "      <td>60.0</td>\n",
       "      <td>Sep 23, 1994</td>\n",
       "      <td>The Shawshank Redemption</td>\n",
       "      <td>25000000.0</td>\n",
       "      <td>28241469.0</td>\n",
       "      <td>2.841706e+07</td>\n",
       "      <td>both</td>\n",
       "      <td>175591.0</td>\n",
       "    </tr>\n",
       "    <tr>\n",
       "      <th>1</th>\n",
       "      <td>NaN</td>\n",
       "      <td>2008.0</td>\n",
       "      <td>The Dark Knight</td>\n",
       "      <td>tt0468569</td>\n",
       "      <td>152</td>\n",
       "      <td>9.0</td>\n",
       "      <td>2225006.0</td>\n",
       "      <td>59.0</td>\n",
       "      <td>59.0</td>\n",
       "      <td>Jul 11, 2008</td>\n",
       "      <td>The Dark Knight</td>\n",
       "      <td>185000000.0</td>\n",
       "      <td>533720947.0</td>\n",
       "      <td>1.000743e+09</td>\n",
       "      <td>both</td>\n",
       "      <td>467021804.0</td>\n",
       "    </tr>\n",
       "    <tr>\n",
       "      <th>2</th>\n",
       "      <td>WB</td>\n",
       "      <td>2010.0</td>\n",
       "      <td>Inception</td>\n",
       "      <td>tt1375666</td>\n",
       "      <td>148</td>\n",
       "      <td>8.8</td>\n",
       "      <td>1982266.0</td>\n",
       "      <td>52.0</td>\n",
       "      <td>52.0</td>\n",
       "      <td>2010-07-16</td>\n",
       "      <td>NaN</td>\n",
       "      <td>160000000.0</td>\n",
       "      <td>292576195.0</td>\n",
       "      <td>8.355246e+08</td>\n",
       "      <td>left_only</td>\n",
       "      <td>535700000.0</td>\n",
       "    </tr>\n",
       "    <tr>\n",
       "      <th>3</th>\n",
       "      <td>NaN</td>\n",
       "      <td>1999.0</td>\n",
       "      <td>Fight Club</td>\n",
       "      <td>tt0137523</td>\n",
       "      <td>139</td>\n",
       "      <td>8.8</td>\n",
       "      <td>1794853.0</td>\n",
       "      <td>NaN</td>\n",
       "      <td>NaN</td>\n",
       "      <td>Oct 15, 1999</td>\n",
       "      <td>Fight Club</td>\n",
       "      <td>65000000.0</td>\n",
       "      <td>37030102.0</td>\n",
       "      <td>1.008345e+08</td>\n",
       "      <td>both</td>\n",
       "      <td>63804388.0</td>\n",
       "    </tr>\n",
       "    <tr>\n",
       "      <th>4</th>\n",
       "      <td>NaN</td>\n",
       "      <td>1994.0</td>\n",
       "      <td>Pulp Fiction</td>\n",
       "      <td>tt0110912</td>\n",
       "      <td>154</td>\n",
       "      <td>8.9</td>\n",
       "      <td>1767823.0</td>\n",
       "      <td>51.0</td>\n",
       "      <td>51.0</td>\n",
       "      <td>Sep 10, 1994</td>\n",
       "      <td>Pulp Fiction</td>\n",
       "      <td>8000000.0</td>\n",
       "      <td>107928762.0</td>\n",
       "      <td>2.129119e+08</td>\n",
       "      <td>both</td>\n",
       "      <td>104983148.0</td>\n",
       "    </tr>\n",
       "  </tbody>\n",
       "</table>\n",
       "</div>"
      ],
      "text/plain": [
       "  studio    year               Movie_title     tconst runtimeMinutes  \\\n",
       "0    NaN  1994.0  The Shawshank Redemption  tt0111161            142   \n",
       "1    NaN  2008.0           The Dark Knight  tt0468569            152   \n",
       "2     WB  2010.0                 Inception  tt1375666            148   \n",
       "3    NaN  1999.0                Fight Club  tt0137523            139   \n",
       "4    NaN  1994.0              Pulp Fiction  tt0110912            154   \n",
       "\n",
       "   averageRating   numVotes  region  language  Release_Date  \\\n",
       "0            9.3  2259481.0    60.0      60.0  Sep 23, 1994   \n",
       "1            9.0  2225006.0    59.0      59.0  Jul 11, 2008   \n",
       "2            8.8  1982266.0    52.0      52.0    2010-07-16   \n",
       "3            8.8  1794853.0     NaN       NaN  Oct 15, 1999   \n",
       "4            8.9  1767823.0    51.0      51.0  Sep 10, 1994   \n",
       "\n",
       "                 Movie_Name  Production_Budget  Gross_Domestic  \\\n",
       "0  The Shawshank Redemption         25000000.0      28241469.0   \n",
       "1           The Dark Knight        185000000.0     533720947.0   \n",
       "2                       NaN        160000000.0     292576195.0   \n",
       "3                Fight Club         65000000.0      37030102.0   \n",
       "4              Pulp Fiction          8000000.0     107928762.0   \n",
       "\n",
       "   Gross_Worldwide     _merge  Gross_Foreign_Only  \n",
       "0     2.841706e+07       both            175591.0  \n",
       "1     1.000743e+09       both         467021804.0  \n",
       "2     8.355246e+08  left_only         535700000.0  \n",
       "3     1.008345e+08       both          63804388.0  \n",
       "4     2.129119e+08       both         104983148.0  "
      ]
     },
     "execution_count": 3,
     "metadata": {},
     "output_type": "execute_result"
    }
   ],
   "source": [
    "df = pd.read_csv('Final_Data/Final_Movie_Budget.csv', index_col=0)\n",
    "df.head()"
   ]
  },
  {
   "cell_type": "markdown",
   "metadata": {},
   "source": [
    "We're creating the profit column here, adjusting for inflation for the year it came out to today's currency (2020)"
   ]
  },
  {
   "cell_type": "code",
   "execution_count": 4,
   "metadata": {},
   "outputs": [],
   "source": [
    "df['Gross_Worldwide'] = df['Gross_Worldwide'] * (2020 - df['year'])*1.0322\n",
    "df['Gross_Domestic'] = df['Gross_Domestic']* (2020- df['year'])*1.0322\n",
    "df['Production_Budget'] = df['Production_Budget'] * (2020- df['year'])*1.0322\n",
    "df['Gross_Foreign_Only'] = df['Gross_Foreign_Only'] * (2020- df['year'])*1.0322\n",
    "df['Profit'] = (df['Gross_Worldwide'] - df['Production_Budget']) #create the profit column"
   ]
  },
  {
   "cell_type": "markdown",
   "metadata": {},
   "source": [
    "Making sure that our dateset only contains the movies that fall within the timeframe we're looking at. Should've been done earlier, but if anything was missed it'll be caught here. We will also create another column for the season the movie was released in. Winter: Jan-Mar, Spring: Apr-Jun, Summer: July-Sept, Fall: Oct-Dec"
   ]
  },
  {
   "cell_type": "code",
   "execution_count": 5,
   "metadata": {},
   "outputs": [
    {
     "data": {
      "text/html": [
       "<div>\n",
       "<style scoped>\n",
       "    .dataframe tbody tr th:only-of-type {\n",
       "        vertical-align: middle;\n",
       "    }\n",
       "\n",
       "    .dataframe tbody tr th {\n",
       "        vertical-align: top;\n",
       "    }\n",
       "\n",
       "    .dataframe thead th {\n",
       "        text-align: right;\n",
       "    }\n",
       "</style>\n",
       "<table border=\"1\" class=\"dataframe\">\n",
       "  <thead>\n",
       "    <tr style=\"text-align: right;\">\n",
       "      <th></th>\n",
       "      <th>studio</th>\n",
       "      <th>year</th>\n",
       "      <th>Movie_title</th>\n",
       "      <th>tconst</th>\n",
       "      <th>runtimeMinutes</th>\n",
       "      <th>averageRating</th>\n",
       "      <th>numVotes</th>\n",
       "      <th>region</th>\n",
       "      <th>language</th>\n",
       "      <th>Release_Date</th>\n",
       "      <th>Movie_Name</th>\n",
       "      <th>Production_Budget</th>\n",
       "      <th>Gross_Domestic</th>\n",
       "      <th>Gross_Worldwide</th>\n",
       "      <th>_merge</th>\n",
       "      <th>Gross_Foreign_Only</th>\n",
       "      <th>Profit</th>\n",
       "      <th>Month</th>\n",
       "      <th>Season</th>\n",
       "    </tr>\n",
       "  </thead>\n",
       "  <tbody>\n",
       "    <tr>\n",
       "      <th>0</th>\n",
       "      <td>NaN</td>\n",
       "      <td>1994.0</td>\n",
       "      <td>The Shawshank Redemption</td>\n",
       "      <td>tt0111161</td>\n",
       "      <td>142</td>\n",
       "      <td>9.3</td>\n",
       "      <td>2259481.0</td>\n",
       "      <td>60.0</td>\n",
       "      <td>60.0</td>\n",
       "      <td>1994-09-23</td>\n",
       "      <td>The Shawshank Redemption</td>\n",
       "      <td>6.709300e+08</td>\n",
       "      <td>7.579220e+08</td>\n",
       "      <td>7.626343e+08</td>\n",
       "      <td>both</td>\n",
       "      <td>4.712371e+06</td>\n",
       "      <td>9.170432e+07</td>\n",
       "      <td>9.0</td>\n",
       "      <td>Fall</td>\n",
       "    </tr>\n",
       "    <tr>\n",
       "      <th>1</th>\n",
       "      <td>NaN</td>\n",
       "      <td>2008.0</td>\n",
       "      <td>The Dark Knight</td>\n",
       "      <td>tt0468569</td>\n",
       "      <td>152</td>\n",
       "      <td>9.0</td>\n",
       "      <td>2225006.0</td>\n",
       "      <td>59.0</td>\n",
       "      <td>59.0</td>\n",
       "      <td>2008-07-11</td>\n",
       "      <td>The Dark Knight</td>\n",
       "      <td>2.291484e+09</td>\n",
       "      <td>6.610881e+09</td>\n",
       "      <td>1.239560e+10</td>\n",
       "      <td>both</td>\n",
       "      <td>5.784719e+09</td>\n",
       "      <td>1.010412e+10</td>\n",
       "      <td>7.0</td>\n",
       "      <td>Summer</td>\n",
       "    </tr>\n",
       "    <tr>\n",
       "      <th>2</th>\n",
       "      <td>WB</td>\n",
       "      <td>2010.0</td>\n",
       "      <td>Inception</td>\n",
       "      <td>tt1375666</td>\n",
       "      <td>148</td>\n",
       "      <td>8.8</td>\n",
       "      <td>1982266.0</td>\n",
       "      <td>52.0</td>\n",
       "      <td>52.0</td>\n",
       "      <td>2010-07-16</td>\n",
       "      <td>NaN</td>\n",
       "      <td>1.651520e+09</td>\n",
       "      <td>3.019971e+09</td>\n",
       "      <td>8.624285e+09</td>\n",
       "      <td>left_only</td>\n",
       "      <td>5.529495e+09</td>\n",
       "      <td>6.972765e+09</td>\n",
       "      <td>7.0</td>\n",
       "      <td>Summer</td>\n",
       "    </tr>\n",
       "    <tr>\n",
       "      <th>3</th>\n",
       "      <td>NaN</td>\n",
       "      <td>1999.0</td>\n",
       "      <td>Fight Club</td>\n",
       "      <td>tt0137523</td>\n",
       "      <td>139</td>\n",
       "      <td>8.8</td>\n",
       "      <td>1794853.0</td>\n",
       "      <td>NaN</td>\n",
       "      <td>NaN</td>\n",
       "      <td>1999-10-15</td>\n",
       "      <td>Fight Club</td>\n",
       "      <td>1.408953e+09</td>\n",
       "      <td>8.026719e+08</td>\n",
       "      <td>2.185709e+09</td>\n",
       "      <td>both</td>\n",
       "      <td>1.383037e+09</td>\n",
       "      <td>7.767556e+08</td>\n",
       "      <td>10.0</td>\n",
       "      <td>Fall</td>\n",
       "    </tr>\n",
       "    <tr>\n",
       "      <th>4</th>\n",
       "      <td>NaN</td>\n",
       "      <td>1994.0</td>\n",
       "      <td>Pulp Fiction</td>\n",
       "      <td>tt0110912</td>\n",
       "      <td>154</td>\n",
       "      <td>8.9</td>\n",
       "      <td>1767823.0</td>\n",
       "      <td>51.0</td>\n",
       "      <td>51.0</td>\n",
       "      <td>1994-09-10</td>\n",
       "      <td>Pulp Fiction</td>\n",
       "      <td>2.146976e+08</td>\n",
       "      <td>2.896506e+09</td>\n",
       "      <td>5.713960e+09</td>\n",
       "      <td>both</td>\n",
       "      <td>2.817454e+09</td>\n",
       "      <td>5.499262e+09</td>\n",
       "      <td>9.0</td>\n",
       "      <td>Fall</td>\n",
       "    </tr>\n",
       "  </tbody>\n",
       "</table>\n",
       "</div>"
      ],
      "text/plain": [
       "  studio    year               Movie_title     tconst runtimeMinutes  \\\n",
       "0    NaN  1994.0  The Shawshank Redemption  tt0111161            142   \n",
       "1    NaN  2008.0           The Dark Knight  tt0468569            152   \n",
       "2     WB  2010.0                 Inception  tt1375666            148   \n",
       "3    NaN  1999.0                Fight Club  tt0137523            139   \n",
       "4    NaN  1994.0              Pulp Fiction  tt0110912            154   \n",
       "\n",
       "   averageRating   numVotes  region  language Release_Date  \\\n",
       "0            9.3  2259481.0    60.0      60.0   1994-09-23   \n",
       "1            9.0  2225006.0    59.0      59.0   2008-07-11   \n",
       "2            8.8  1982266.0    52.0      52.0   2010-07-16   \n",
       "3            8.8  1794853.0     NaN       NaN   1999-10-15   \n",
       "4            8.9  1767823.0    51.0      51.0   1994-09-10   \n",
       "\n",
       "                 Movie_Name  Production_Budget  Gross_Domestic  \\\n",
       "0  The Shawshank Redemption       6.709300e+08    7.579220e+08   \n",
       "1           The Dark Knight       2.291484e+09    6.610881e+09   \n",
       "2                       NaN       1.651520e+09    3.019971e+09   \n",
       "3                Fight Club       1.408953e+09    8.026719e+08   \n",
       "4              Pulp Fiction       2.146976e+08    2.896506e+09   \n",
       "\n",
       "   Gross_Worldwide     _merge  Gross_Foreign_Only        Profit  Month  Season  \n",
       "0     7.626343e+08       both        4.712371e+06  9.170432e+07    9.0    Fall  \n",
       "1     1.239560e+10       both        5.784719e+09  1.010412e+10    7.0  Summer  \n",
       "2     8.624285e+09  left_only        5.529495e+09  6.972765e+09    7.0  Summer  \n",
       "3     2.185709e+09       both        1.383037e+09  7.767556e+08   10.0    Fall  \n",
       "4     5.713960e+09       both        2.817454e+09  5.499262e+09    9.0    Fall  "
      ]
     },
     "execution_count": 5,
     "metadata": {},
     "output_type": "execute_result"
    }
   ],
   "source": [
    "season_dict = {1.0 : 'Winter', 2.0 : 'Winter' , 3.0 : 'Spring',\n",
    "              4.0 : 'Spring', 5.0 : 'Spring', 6.0 : 'Summer',\n",
    "              7.0 : 'Summer', 8.0 : 'Summer', 9.0 : 'Fall',\n",
    "              10.0 : 'Fall', 11.0 : 'Fall', 12.0 : 'Winter',\n",
    "              'NaN' : 'NaN'}\n",
    "#may want to adjust the months back 1 so December isn't a fall month. \n",
    "df['Release_Date'] = pd.to_datetime(df.Release_Date, errors='coerce') #convert into datetimes\n",
    "df.sort_values(by='Release_Date') #sort by release date\n",
    "\n",
    "df['Month'] = df['Release_Date'].dt.month\n",
    "df['Season'] = df['Release_Date'].dt.month.map(season_dict)\n",
    "df.head()"
   ]
  },
  {
   "cell_type": "markdown",
   "metadata": {},
   "source": [
    "want to drop region, runtime, movie_name, "
   ]
  },
  {
   "cell_type": "code",
   "execution_count": 6,
   "metadata": {},
   "outputs": [
    {
     "data": {
      "text/html": [
       "<div>\n",
       "<style scoped>\n",
       "    .dataframe tbody tr th:only-of-type {\n",
       "        vertical-align: middle;\n",
       "    }\n",
       "\n",
       "    .dataframe tbody tr th {\n",
       "        vertical-align: top;\n",
       "    }\n",
       "\n",
       "    .dataframe thead th {\n",
       "        text-align: right;\n",
       "    }\n",
       "</style>\n",
       "<table border=\"1\" class=\"dataframe\">\n",
       "  <thead>\n",
       "    <tr style=\"text-align: right;\">\n",
       "      <th></th>\n",
       "      <th>studio</th>\n",
       "      <th>year</th>\n",
       "      <th>Movie_title</th>\n",
       "      <th>tconst</th>\n",
       "      <th>runtimeMinutes</th>\n",
       "      <th>averageRating</th>\n",
       "      <th>numVotes</th>\n",
       "      <th>region</th>\n",
       "      <th>language</th>\n",
       "      <th>Release_Date</th>\n",
       "      <th>Movie_Name</th>\n",
       "      <th>Production_Budget</th>\n",
       "      <th>Gross_Domestic</th>\n",
       "      <th>Gross_Worldwide</th>\n",
       "      <th>_merge</th>\n",
       "      <th>Gross_Foreign_Only</th>\n",
       "      <th>Profit</th>\n",
       "      <th>Month</th>\n",
       "      <th>Season</th>\n",
       "    </tr>\n",
       "  </thead>\n",
       "  <tbody>\n",
       "    <tr>\n",
       "      <th>0</th>\n",
       "      <td>NaN</td>\n",
       "      <td>1994.0</td>\n",
       "      <td>The Shawshank Redemption</td>\n",
       "      <td>tt0111161</td>\n",
       "      <td>142</td>\n",
       "      <td>9.3</td>\n",
       "      <td>2259481.0</td>\n",
       "      <td>60.0</td>\n",
       "      <td>60.0</td>\n",
       "      <td>1994-09-23</td>\n",
       "      <td>The Shawshank Redemption</td>\n",
       "      <td>6.709300e+08</td>\n",
       "      <td>7.579220e+08</td>\n",
       "      <td>7.626343e+08</td>\n",
       "      <td>both</td>\n",
       "      <td>4.712371e+06</td>\n",
       "      <td>9.170432e+07</td>\n",
       "      <td>9.0</td>\n",
       "      <td>Fall</td>\n",
       "    </tr>\n",
       "    <tr>\n",
       "      <th>1</th>\n",
       "      <td>NaN</td>\n",
       "      <td>2008.0</td>\n",
       "      <td>The Dark Knight</td>\n",
       "      <td>tt0468569</td>\n",
       "      <td>152</td>\n",
       "      <td>9.0</td>\n",
       "      <td>2225006.0</td>\n",
       "      <td>59.0</td>\n",
       "      <td>59.0</td>\n",
       "      <td>2008-07-11</td>\n",
       "      <td>The Dark Knight</td>\n",
       "      <td>2.291484e+09</td>\n",
       "      <td>6.610881e+09</td>\n",
       "      <td>1.239560e+10</td>\n",
       "      <td>both</td>\n",
       "      <td>5.784719e+09</td>\n",
       "      <td>1.010412e+10</td>\n",
       "      <td>7.0</td>\n",
       "      <td>Summer</td>\n",
       "    </tr>\n",
       "    <tr>\n",
       "      <th>2</th>\n",
       "      <td>WB</td>\n",
       "      <td>2010.0</td>\n",
       "      <td>Inception</td>\n",
       "      <td>tt1375666</td>\n",
       "      <td>148</td>\n",
       "      <td>8.8</td>\n",
       "      <td>1982266.0</td>\n",
       "      <td>52.0</td>\n",
       "      <td>52.0</td>\n",
       "      <td>2010-07-16</td>\n",
       "      <td>NaN</td>\n",
       "      <td>1.651520e+09</td>\n",
       "      <td>3.019971e+09</td>\n",
       "      <td>8.624285e+09</td>\n",
       "      <td>left_only</td>\n",
       "      <td>5.529495e+09</td>\n",
       "      <td>6.972765e+09</td>\n",
       "      <td>7.0</td>\n",
       "      <td>Summer</td>\n",
       "    </tr>\n",
       "    <tr>\n",
       "      <th>3</th>\n",
       "      <td>NaN</td>\n",
       "      <td>1999.0</td>\n",
       "      <td>Fight Club</td>\n",
       "      <td>tt0137523</td>\n",
       "      <td>139</td>\n",
       "      <td>8.8</td>\n",
       "      <td>1794853.0</td>\n",
       "      <td>NaN</td>\n",
       "      <td>NaN</td>\n",
       "      <td>1999-10-15</td>\n",
       "      <td>Fight Club</td>\n",
       "      <td>1.408953e+09</td>\n",
       "      <td>8.026719e+08</td>\n",
       "      <td>2.185709e+09</td>\n",
       "      <td>both</td>\n",
       "      <td>1.383037e+09</td>\n",
       "      <td>7.767556e+08</td>\n",
       "      <td>10.0</td>\n",
       "      <td>Fall</td>\n",
       "    </tr>\n",
       "    <tr>\n",
       "      <th>4</th>\n",
       "      <td>NaN</td>\n",
       "      <td>1994.0</td>\n",
       "      <td>Pulp Fiction</td>\n",
       "      <td>tt0110912</td>\n",
       "      <td>154</td>\n",
       "      <td>8.9</td>\n",
       "      <td>1767823.0</td>\n",
       "      <td>51.0</td>\n",
       "      <td>51.0</td>\n",
       "      <td>1994-09-10</td>\n",
       "      <td>Pulp Fiction</td>\n",
       "      <td>2.146976e+08</td>\n",
       "      <td>2.896506e+09</td>\n",
       "      <td>5.713960e+09</td>\n",
       "      <td>both</td>\n",
       "      <td>2.817454e+09</td>\n",
       "      <td>5.499262e+09</td>\n",
       "      <td>9.0</td>\n",
       "      <td>Fall</td>\n",
       "    </tr>\n",
       "  </tbody>\n",
       "</table>\n",
       "</div>"
      ],
      "text/plain": [
       "  studio    year               Movie_title     tconst runtimeMinutes  \\\n",
       "0    NaN  1994.0  The Shawshank Redemption  tt0111161            142   \n",
       "1    NaN  2008.0           The Dark Knight  tt0468569            152   \n",
       "2     WB  2010.0                 Inception  tt1375666            148   \n",
       "3    NaN  1999.0                Fight Club  tt0137523            139   \n",
       "4    NaN  1994.0              Pulp Fiction  tt0110912            154   \n",
       "\n",
       "   averageRating   numVotes  region  language Release_Date  \\\n",
       "0            9.3  2259481.0    60.0      60.0   1994-09-23   \n",
       "1            9.0  2225006.0    59.0      59.0   2008-07-11   \n",
       "2            8.8  1982266.0    52.0      52.0   2010-07-16   \n",
       "3            8.8  1794853.0     NaN       NaN   1999-10-15   \n",
       "4            8.9  1767823.0    51.0      51.0   1994-09-10   \n",
       "\n",
       "                 Movie_Name  Production_Budget  Gross_Domestic  \\\n",
       "0  The Shawshank Redemption       6.709300e+08    7.579220e+08   \n",
       "1           The Dark Knight       2.291484e+09    6.610881e+09   \n",
       "2                       NaN       1.651520e+09    3.019971e+09   \n",
       "3                Fight Club       1.408953e+09    8.026719e+08   \n",
       "4              Pulp Fiction       2.146976e+08    2.896506e+09   \n",
       "\n",
       "   Gross_Worldwide     _merge  Gross_Foreign_Only        Profit  Month  Season  \n",
       "0     7.626343e+08       both        4.712371e+06  9.170432e+07    9.0    Fall  \n",
       "1     1.239560e+10       both        5.784719e+09  1.010412e+10    7.0  Summer  \n",
       "2     8.624285e+09  left_only        5.529495e+09  6.972765e+09    7.0  Summer  \n",
       "3     2.185709e+09       both        1.383037e+09  7.767556e+08   10.0    Fall  \n",
       "4     5.713960e+09       both        2.817454e+09  5.499262e+09    9.0    Fall  "
      ]
     },
     "execution_count": 6,
     "metadata": {},
     "output_type": "execute_result"
    }
   ],
   "source": [
    "df_filter = df.loc[(df['Release_Date'] < '2020-01-01') & (df['Release_Date'] > '1979-12-31')] #select the right dates\n",
    "df_filter.head()"
   ]
  },
  {
   "cell_type": "code",
   "execution_count": 7,
   "metadata": {},
   "outputs": [],
   "source": [
    "genre_raw_df = pd.read_csv('zippedData/title.basics.tsv', low_memory=False, sep='\\t')"
   ]
  },
  {
   "cell_type": "markdown",
   "metadata": {},
   "source": [
    "drop anything not a \"movie\"\n"
   ]
  },
  {
   "cell_type": "code",
   "execution_count": 8,
   "metadata": {},
   "outputs": [
    {
     "data": {
      "text/html": [
       "<div>\n",
       "<style scoped>\n",
       "    .dataframe tbody tr th:only-of-type {\n",
       "        vertical-align: middle;\n",
       "    }\n",
       "\n",
       "    .dataframe tbody tr th {\n",
       "        vertical-align: top;\n",
       "    }\n",
       "\n",
       "    .dataframe thead th {\n",
       "        text-align: right;\n",
       "    }\n",
       "</style>\n",
       "<table border=\"1\" class=\"dataframe\">\n",
       "  <thead>\n",
       "    <tr style=\"text-align: right;\">\n",
       "      <th></th>\n",
       "      <th>tconst</th>\n",
       "      <th>titleType</th>\n",
       "      <th>primaryTitle</th>\n",
       "      <th>originalTitle</th>\n",
       "      <th>isAdult</th>\n",
       "      <th>startYear</th>\n",
       "      <th>endYear</th>\n",
       "      <th>runtimeMinutes</th>\n",
       "      <th>genres</th>\n",
       "    </tr>\n",
       "  </thead>\n",
       "  <tbody>\n",
       "    <tr>\n",
       "      <th>0</th>\n",
       "      <td>tt0000001</td>\n",
       "      <td>short</td>\n",
       "      <td>Carmencita</td>\n",
       "      <td>Carmencita</td>\n",
       "      <td>0</td>\n",
       "      <td>1894</td>\n",
       "      <td>\\N</td>\n",
       "      <td>1</td>\n",
       "      <td>Documentary,Short</td>\n",
       "    </tr>\n",
       "    <tr>\n",
       "      <th>1</th>\n",
       "      <td>tt0000002</td>\n",
       "      <td>short</td>\n",
       "      <td>Le clown et ses chiens</td>\n",
       "      <td>Le clown et ses chiens</td>\n",
       "      <td>0</td>\n",
       "      <td>1892</td>\n",
       "      <td>\\N</td>\n",
       "      <td>5</td>\n",
       "      <td>Animation,Short</td>\n",
       "    </tr>\n",
       "    <tr>\n",
       "      <th>2</th>\n",
       "      <td>tt0000003</td>\n",
       "      <td>short</td>\n",
       "      <td>Pauvre Pierrot</td>\n",
       "      <td>Pauvre Pierrot</td>\n",
       "      <td>0</td>\n",
       "      <td>1892</td>\n",
       "      <td>\\N</td>\n",
       "      <td>4</td>\n",
       "      <td>Animation,Comedy,Romance</td>\n",
       "    </tr>\n",
       "    <tr>\n",
       "      <th>3</th>\n",
       "      <td>tt0000004</td>\n",
       "      <td>short</td>\n",
       "      <td>Un bon bock</td>\n",
       "      <td>Un bon bock</td>\n",
       "      <td>0</td>\n",
       "      <td>1892</td>\n",
       "      <td>\\N</td>\n",
       "      <td>12</td>\n",
       "      <td>Animation,Short</td>\n",
       "    </tr>\n",
       "    <tr>\n",
       "      <th>4</th>\n",
       "      <td>tt0000005</td>\n",
       "      <td>short</td>\n",
       "      <td>Blacksmith Scene</td>\n",
       "      <td>Blacksmith Scene</td>\n",
       "      <td>0</td>\n",
       "      <td>1893</td>\n",
       "      <td>\\N</td>\n",
       "      <td>1</td>\n",
       "      <td>Comedy,Short</td>\n",
       "    </tr>\n",
       "  </tbody>\n",
       "</table>\n",
       "</div>"
      ],
      "text/plain": [
       "      tconst titleType            primaryTitle           originalTitle  \\\n",
       "0  tt0000001     short              Carmencita              Carmencita   \n",
       "1  tt0000002     short  Le clown et ses chiens  Le clown et ses chiens   \n",
       "2  tt0000003     short          Pauvre Pierrot          Pauvre Pierrot   \n",
       "3  tt0000004     short             Un bon bock             Un bon bock   \n",
       "4  tt0000005     short        Blacksmith Scene        Blacksmith Scene   \n",
       "\n",
       "   isAdult startYear endYear runtimeMinutes                    genres  \n",
       "0        0      1894      \\N              1         Documentary,Short  \n",
       "1        0      1892      \\N              5           Animation,Short  \n",
       "2        0      1892      \\N              4  Animation,Comedy,Romance  \n",
       "3        0      1892      \\N             12           Animation,Short  \n",
       "4        0      1893      \\N              1              Comedy,Short  "
      ]
     },
     "execution_count": 8,
     "metadata": {},
     "output_type": "execute_result"
    }
   ],
   "source": [
    "genre_raw_df.head()"
   ]
  },
  {
   "cell_type": "markdown",
   "metadata": {},
   "source": [
    "We're merging the genre data into the dataset that contains the rest of our information, including votes, money, and release dates. "
   ]
  },
  {
   "cell_type": "code",
   "execution_count": 9,
   "metadata": {},
   "outputs": [],
   "source": [
    "df_filter = df_filter.merge(genre_raw_df[['tconst', 'genres']], how='inner', on='tconst')"
   ]
  },
  {
   "cell_type": "code",
   "execution_count": 10,
   "metadata": {},
   "outputs": [],
   "source": [
    "df_filter['genres'] = df_filter['genres'].apply(lambda x: x.split(','))\n",
    "genre_df_col = df_filter.columns.drop('genres')"
   ]
  },
  {
   "cell_type": "code",
   "execution_count": 11,
   "metadata": {},
   "outputs": [],
   "source": [
    "genre_df = df_filter['genres'].apply(pd.Series) \\\n",
    "    .merge(df_filter, right_index = True, left_index=True)\\\n",
    "    .drop(['genres'], axis=1)\\\n",
    "    .melt(id_vars=genre_df_col, value_name = 'genre')\\\n",
    "    .drop('variable', axis=1)\\\n",
    "    .dropna()\n",
    "genre_order = genre_df['genre'].unique()"
   ]
  },
  {
   "cell_type": "code",
   "execution_count": 12,
   "metadata": {},
   "outputs": [
    {
     "data": {
      "text/plain": [
       "<matplotlib.axes._subplots.AxesSubplot at 0x23e1f995248>"
      ]
     },
     "execution_count": 12,
     "metadata": {},
     "output_type": "execute_result"
    },
    {
     "data": {
      "image/png": "[encoded data removed]",
      "text/plain": [
       "<Figure size 1440x360 with 1 Axes>"
      ]
     },
     "metadata": {
      "needs_background": "light"
     },
     "output_type": "display_data"
    }
   ],
   "source": [
    "plt.figure(figsize=(20,5))\n",
    "sns.boxplot(x='genre', y='Profit', data=genre_df,\n",
    "            order=genre_order)"
   ]
  },
  {
   "cell_type": "code",
   "execution_count": 13,
   "metadata": {},
   "outputs": [
    {
     "data": {
      "text/plain": [
       "<matplotlib.legend.Legend at 0x23e1ff72f48>"
      ]
     },
     "execution_count": 13,
     "metadata": {},
     "output_type": "execute_result"
    },
    {
     "data": {
      "image/png": "[encoded data removed]",
      "text/plain": [
       "<Figure size 1440x360 with 1 Axes>"
      ]
     },
     "metadata": {
      "needs_background": "light"
     },
     "output_type": "display_data"
    }
   ],
   "source": [
    "plt.figure(figsize=(20,5))\n",
    "sns.boxplot(x='Season', y='Profit', hue='genre', data=genre_df,\n",
    "           order=['Spring', 'Summer', 'Fall', 'Winter'])\n",
    "plt.legend(bbox_to_anchor=(1.05, 1), loc=2, borderaxespad=0.,prop={'size': 10})\n",
    "#idk depends on the number of genres really"
   ]
  },
  {
   "cell_type": "code",
   "execution_count": 14,
   "metadata": {},
   "outputs": [
    {
     "data": {
      "text/plain": [
       "<matplotlib.legend.Legend at 0x23e20e382c8>"
      ]
     },
     "execution_count": 14,
     "metadata": {},
     "output_type": "execute_result"
    },
    {
     "data": {
      "image/png": "[encoded data removed]",
      "text/plain": [
       "<Figure size 1440x360 with 1 Axes>"
      ]
     },
     "metadata": {
      "needs_background": "light"
     },
     "output_type": "display_data"
    }
   ],
   "source": [
    "plt.figure(figsize=(20,5))\n",
    "sns.boxplot(x='Month', y='Profit', hue='genre', data=genre_df)\n",
    "plt.legend(bbox_to_anchor=(1.05, 1), loc=2, borderaxespad=0.,prop={'size': 10})"
   ]
  },
  {
   "cell_type": "code",
   "execution_count": 15,
   "metadata": {},
   "outputs": [
    {
     "data": {
      "text/plain": [
       "<Figure size 360x1440 with 0 Axes>"
      ]
     },
     "metadata": {},
     "output_type": "display_data"
    },
    {
     "data": {
      "image/png": "[encoded data removed]",
      "text/plain": [
       "<Figure size 864x648 with 12 Axes>"
      ]
     },
     "metadata": {
      "needs_background": "light"
     },
     "output_type": "display_data"
    }
   ],
   "source": [
    "plt.figure(figsize=(5,20))\n",
    "g = sns.FacetGrid(genre_df, col=\"Month\", col_wrap=4, margin_titles=True)\n",
    "g.map(sns.boxplot, \"genre\", \"Profit\", order=genre_order);"
   ]
  },
  {
   "cell_type": "code",
   "execution_count": 16,
   "metadata": {},
   "outputs": [
    {
     "data": {
      "text/plain": [
       "<matplotlib.axes._subplots.AxesSubplot at 0x23e27ab8788>"
      ]
     },
     "execution_count": 16,
     "metadata": {},
     "output_type": "execute_result"
    },
    {
     "data": {
      "image/png": "[encoded data removed]",
      "text/plain": [
       "<Figure size 1440x360 with 1 Axes>"
      ]
     },
     "metadata": {
      "needs_background": "light"
     },
     "output_type": "display_data"
    }
   ],
   "source": [
    "plt.figure(figsize=(20,5))\n",
    "sns.boxplot(x='genre', y='Profit', hue='Season', data=genre_df)"
   ]
  },
  {
   "cell_type": "code",
   "execution_count": 17,
   "metadata": {},
   "outputs": [
    {
     "data": {
      "text/plain": [
       "<matplotlib.axes._subplots.AxesSubplot at 0x23e2924e6c8>"
      ]
     },
     "execution_count": 17,
     "metadata": {},
     "output_type": "execute_result"
    },
    {
     "data": {
      "image/png": "[encoded data removed]",
      "text/plain": [
       "<Figure size 432x288 with 1 Axes>"
      ]
     },
     "metadata": {
      "needs_background": "light"
     },
     "output_type": "display_data"
    }
   ],
   "source": [
    "sns.boxplot(x='Season', y='Profit', data=df_filter,\n",
    "               order=['Spring', 'Summer', 'Fall', 'Winter'])"
   ]
  },
  {
   "cell_type": "markdown",
   "metadata": {},
   "source": [
    "We are looking at if the number of votes is related to the amount of money that is made by the film."
   ]
  },
  {
   "cell_type": "code",
   "execution_count": 18,
   "metadata": {},
   "outputs": [
    {
     "data": {
      "text/plain": [
       "<seaborn.axisgrid.FacetGrid at 0x23e1fc12b48>"
      ]
     },
     "execution_count": 18,
     "metadata": {},
     "output_type": "execute_result"
    },
    {
     "data": {
      "image/png": "[encoded data removed]",
      "text/plain": [
       "<Figure size 360x360 with 1 Axes>"
      ]
     },
     "metadata": {
      "needs_background": "light"
     },
     "output_type": "display_data"
    }
   ],
   "source": [
    "sns.set_palette(sns.color_palette('Paired'))\n",
    "lmplot1 = sns.lmplot(x='numVotes', y='Profit', data=df_filter)\n",
    "lmplot1.set(xlabel = \"Number of Fanvotes (IMDB)\", ylabel='Profit for Film', title='Fanvotes Relationship with Profit')"
   ]
  },
  {
   "cell_type": "markdown",
   "metadata": {},
   "source": [
    "Here we are going to be looking at if there is a relationship between how much money is spent on a film and if more money spent on the film results in more votes, which we've assumed to mean more views."
   ]
  },
  {
   "cell_type": "code",
   "execution_count": 29,
   "metadata": {},
   "outputs": [
    {
     "data": {
      "text/plain": [
       "<seaborn.axisgrid.FacetGrid at 0x23e2accc388>"
      ]
     },
     "execution_count": 29,
     "metadata": {},
     "output_type": "execute_result"
    },
    {
     "data": {
      "image/png": "[encoded data removed]",
      "text/plain": [
       "<Figure size 360x360 with 1 Axes>"
      ]
     },
     "metadata": {
      "needs_background": "light"
     },
     "output_type": "display_data"
    }
   ],
   "source": [
    "df_prod_out = df_filter[(df_filter['numVotes'] > 250)]\n",
    "lmplot2 = sns.lmplot(y='numVotes', x='Production_Budget', data=df_prod_out)\n",
    "lmplot2.set(xlabel = \"Production Budget ($)\", ylabel='Number of Fanvotes (IMDB)', \n",
    "            title='Production Budget Compared to Number of Votes')\n"
   ]
  },
  {
   "cell_type": "code",
   "execution_count": 20,
   "metadata": {},
   "outputs": [
    {
     "data": {
      "text/html": [
       "<div>\n",
       "<style scoped>\n",
       "    .dataframe tbody tr th:only-of-type {\n",
       "        vertical-align: middle;\n",
       "    }\n",
       "\n",
       "    .dataframe tbody tr th {\n",
       "        vertical-align: top;\n",
       "    }\n",
       "\n",
       "    .dataframe thead th {\n",
       "        text-align: right;\n",
       "    }\n",
       "</style>\n",
       "<table border=\"1\" class=\"dataframe\">\n",
       "  <thead>\n",
       "    <tr style=\"text-align: right;\">\n",
       "      <th></th>\n",
       "      <th>studio</th>\n",
       "      <th>year</th>\n",
       "      <th>Movie_title</th>\n",
       "      <th>tconst</th>\n",
       "      <th>runtimeMinutes</th>\n",
       "      <th>averageRating</th>\n",
       "      <th>numVotes</th>\n",
       "      <th>region</th>\n",
       "      <th>language</th>\n",
       "      <th>Release_Date</th>\n",
       "      <th>Movie_Name</th>\n",
       "      <th>Production_Budget</th>\n",
       "      <th>Gross_Domestic</th>\n",
       "      <th>Gross_Worldwide</th>\n",
       "      <th>_merge</th>\n",
       "      <th>Gross_Foreign_Only</th>\n",
       "      <th>Profit</th>\n",
       "      <th>Month</th>\n",
       "      <th>Season</th>\n",
       "      <th>genres</th>\n",
       "    </tr>\n",
       "  </thead>\n",
       "  <tbody>\n",
       "    <tr>\n",
       "      <th>0</th>\n",
       "      <td>NaN</td>\n",
       "      <td>1994.0</td>\n",
       "      <td>The Shawshank Redemption</td>\n",
       "      <td>tt0111161</td>\n",
       "      <td>142</td>\n",
       "      <td>9.3</td>\n",
       "      <td>2259481.0</td>\n",
       "      <td>60.0</td>\n",
       "      <td>60.0</td>\n",
       "      <td>1994-09-23</td>\n",
       "      <td>The Shawshank Redemption</td>\n",
       "      <td>6.709300e+08</td>\n",
       "      <td>7.579220e+08</td>\n",
       "      <td>7.626343e+08</td>\n",
       "      <td>both</td>\n",
       "      <td>4.712371e+06</td>\n",
       "      <td>9.170432e+07</td>\n",
       "      <td>9.0</td>\n",
       "      <td>Fall</td>\n",
       "      <td>[Drama]</td>\n",
       "    </tr>\n",
       "    <tr>\n",
       "      <th>1</th>\n",
       "      <td>NaN</td>\n",
       "      <td>2008.0</td>\n",
       "      <td>The Dark Knight</td>\n",
       "      <td>tt0468569</td>\n",
       "      <td>152</td>\n",
       "      <td>9.0</td>\n",
       "      <td>2225006.0</td>\n",
       "      <td>59.0</td>\n",
       "      <td>59.0</td>\n",
       "      <td>2008-07-11</td>\n",
       "      <td>The Dark Knight</td>\n",
       "      <td>2.291484e+09</td>\n",
       "      <td>6.610881e+09</td>\n",
       "      <td>1.239560e+10</td>\n",
       "      <td>both</td>\n",
       "      <td>5.784719e+09</td>\n",
       "      <td>1.010412e+10</td>\n",
       "      <td>7.0</td>\n",
       "      <td>Summer</td>\n",
       "      <td>[Action, Crime, Drama]</td>\n",
       "    </tr>\n",
       "    <tr>\n",
       "      <th>2</th>\n",
       "      <td>WB</td>\n",
       "      <td>2010.0</td>\n",
       "      <td>Inception</td>\n",
       "      <td>tt1375666</td>\n",
       "      <td>148</td>\n",
       "      <td>8.8</td>\n",
       "      <td>1982266.0</td>\n",
       "      <td>52.0</td>\n",
       "      <td>52.0</td>\n",
       "      <td>2010-07-16</td>\n",
       "      <td>NaN</td>\n",
       "      <td>1.651520e+09</td>\n",
       "      <td>3.019971e+09</td>\n",
       "      <td>8.624285e+09</td>\n",
       "      <td>left_only</td>\n",
       "      <td>5.529495e+09</td>\n",
       "      <td>6.972765e+09</td>\n",
       "      <td>7.0</td>\n",
       "      <td>Summer</td>\n",
       "      <td>[Action, Adventure, Sci-Fi]</td>\n",
       "    </tr>\n",
       "    <tr>\n",
       "      <th>3</th>\n",
       "      <td>NaN</td>\n",
       "      <td>1999.0</td>\n",
       "      <td>Fight Club</td>\n",
       "      <td>tt0137523</td>\n",
       "      <td>139</td>\n",
       "      <td>8.8</td>\n",
       "      <td>1794853.0</td>\n",
       "      <td>NaN</td>\n",
       "      <td>NaN</td>\n",
       "      <td>1999-10-15</td>\n",
       "      <td>Fight Club</td>\n",
       "      <td>1.408953e+09</td>\n",
       "      <td>8.026719e+08</td>\n",
       "      <td>2.185709e+09</td>\n",
       "      <td>both</td>\n",
       "      <td>1.383037e+09</td>\n",
       "      <td>7.767556e+08</td>\n",
       "      <td>10.0</td>\n",
       "      <td>Fall</td>\n",
       "      <td>[Drama]</td>\n",
       "    </tr>\n",
       "    <tr>\n",
       "      <th>4</th>\n",
       "      <td>NaN</td>\n",
       "      <td>1994.0</td>\n",
       "      <td>Pulp Fiction</td>\n",
       "      <td>tt0110912</td>\n",
       "      <td>154</td>\n",
       "      <td>8.9</td>\n",
       "      <td>1767823.0</td>\n",
       "      <td>51.0</td>\n",
       "      <td>51.0</td>\n",
       "      <td>1994-09-10</td>\n",
       "      <td>Pulp Fiction</td>\n",
       "      <td>2.146976e+08</td>\n",
       "      <td>2.896506e+09</td>\n",
       "      <td>5.713960e+09</td>\n",
       "      <td>both</td>\n",
       "      <td>2.817454e+09</td>\n",
       "      <td>5.499262e+09</td>\n",
       "      <td>9.0</td>\n",
       "      <td>Fall</td>\n",
       "      <td>[Crime, Drama]</td>\n",
       "    </tr>\n",
       "  </tbody>\n",
       "</table>\n",
       "</div>"
      ],
      "text/plain": [
       "  studio    year               Movie_title     tconst runtimeMinutes  \\\n",
       "0    NaN  1994.0  The Shawshank Redemption  tt0111161            142   \n",
       "1    NaN  2008.0           The Dark Knight  tt0468569            152   \n",
       "2     WB  2010.0                 Inception  tt1375666            148   \n",
       "3    NaN  1999.0                Fight Club  tt0137523            139   \n",
       "4    NaN  1994.0              Pulp Fiction  tt0110912            154   \n",
       "\n",
       "   averageRating   numVotes  region  language Release_Date  \\\n",
       "0            9.3  2259481.0    60.0      60.0   1994-09-23   \n",
       "1            9.0  2225006.0    59.0      59.0   2008-07-11   \n",
       "2            8.8  1982266.0    52.0      52.0   2010-07-16   \n",
       "3            8.8  1794853.0     NaN       NaN   1999-10-15   \n",
       "4            8.9  1767823.0    51.0      51.0   1994-09-10   \n",
       "\n",
       "                 Movie_Name  Production_Budget  Gross_Domestic  \\\n",
       "0  The Shawshank Redemption       6.709300e+08    7.579220e+08   \n",
       "1           The Dark Knight       2.291484e+09    6.610881e+09   \n",
       "2                       NaN       1.651520e+09    3.019971e+09   \n",
       "3                Fight Club       1.408953e+09    8.026719e+08   \n",
       "4              Pulp Fiction       2.146976e+08    2.896506e+09   \n",
       "\n",
       "   Gross_Worldwide     _merge  Gross_Foreign_Only        Profit  Month  \\\n",
       "0     7.626343e+08       both        4.712371e+06  9.170432e+07    9.0   \n",
       "1     1.239560e+10       both        5.784719e+09  1.010412e+10    7.0   \n",
       "2     8.624285e+09  left_only        5.529495e+09  6.972765e+09    7.0   \n",
       "3     2.185709e+09       both        1.383037e+09  7.767556e+08   10.0   \n",
       "4     5.713960e+09       both        2.817454e+09  5.499262e+09    9.0   \n",
       "\n",
       "   Season                       genres  \n",
       "0    Fall                      [Drama]  \n",
       "1  Summer       [Action, Crime, Drama]  \n",
       "2  Summer  [Action, Adventure, Sci-Fi]  \n",
       "3    Fall                      [Drama]  \n",
       "4    Fall               [Crime, Drama]  "
      ]
     },
     "execution_count": 20,
     "metadata": {},
     "output_type": "execute_result"
    }
   ],
   "source": [
    "df_prod_out.head()"
   ]
  },
  {
   "cell_type": "markdown",
   "metadata": {},
   "source": [
    "And finally, looking at the relationship directly. Production value and profit."
   ]
  },
  {
   "cell_type": "code",
   "execution_count": 60,
   "metadata": {},
   "outputs": [
    {
     "data": {
      "text/plain": [
       "<seaborn.axisgrid.FacetGrid at 0x23e2db5fa48>"
      ]
     },
     "execution_count": 60,
     "metadata": {},
     "output_type": "execute_result"
    },
    {
     "data": {
      "image/png": "[encoded data removed]",
      "text/plain": [
       "<Figure size 360x360 with 1 Axes>"
      ]
     },
     "metadata": {
      "needs_background": "light"
     },
     "output_type": "display_data"
    }
   ],
   "source": [
    "lmplot3 = sns.lmplot(y='Profit', x='Production_Budget',x_bins=25, data=df_prod_out)\n",
    "lmplot3.set(xlabel = \"Production Budget ($)\", ylabel='Profit ($)', \n",
    "            title='Production Budget Compared to Profit',\n",
    "               xlim=(0,1000000000),\n",
    "               ylim=(-1000000,1000000000))"
   ]
  },
  {
   "cell_type": "code",
   "execution_count": 61,
   "metadata": {},
   "outputs": [
    {
     "data": {
      "text/plain": [
       "<seaborn.axisgrid.FacetGrid at 0x23e2dc3b148>"
      ]
     },
     "execution_count": 61,
     "metadata": {},
     "output_type": "execute_result"
    },
    {
     "data": {
      "image/png": "[encoded data removed]",
      "text/plain": [
       "<Figure size 360x360 with 1 Axes>"
      ]
     },
     "metadata": {
      "needs_background": "light"
     },
     "output_type": "display_data"
    }
   ],
   "source": [
    "lmplot4 = sns.lmplot(y='Profit', x='averageRating', x_bins = 25, data=df_prod_out)\n",
    "lmplot4.set(xlabel = \"Average Rating (IMDB)\", ylabel='Profit ($)', title='Viewer Rating Compared to Profit')"
   ]
  },
  {
   "cell_type": "markdown",
   "metadata": {},
   "source": [
    "3) How does the number of movies created by a studio affect the average profit"
   ]
  },
  {
   "cell_type": "code",
   "execution_count": 62,
   "metadata": {},
   "outputs": [
    {
     "data": {
      "text/html": [
       "<div>\n",
       "<style scoped>\n",
       "    .dataframe tbody tr th:only-of-type {\n",
       "        vertical-align: middle;\n",
       "    }\n",
       "\n",
       "    .dataframe tbody tr th {\n",
       "        vertical-align: top;\n",
       "    }\n",
       "\n",
       "    .dataframe thead th {\n",
       "        text-align: right;\n",
       "    }\n",
       "</style>\n",
       "<table border=\"1\" class=\"dataframe\">\n",
       "  <thead>\n",
       "    <tr style=\"text-align: right;\">\n",
       "      <th></th>\n",
       "      <th>studio</th>\n",
       "      <th>year</th>\n",
       "      <th>Movie_title</th>\n",
       "      <th>tconst</th>\n",
       "      <th>runtimeMinutes</th>\n",
       "      <th>averageRating</th>\n",
       "      <th>numVotes</th>\n",
       "      <th>region</th>\n",
       "      <th>language</th>\n",
       "      <th>Release_Date</th>\n",
       "      <th>Movie_Name</th>\n",
       "      <th>Production_Budget</th>\n",
       "      <th>Gross_Domestic</th>\n",
       "      <th>Gross_Worldwide</th>\n",
       "      <th>_merge</th>\n",
       "      <th>Gross_Foreign_Only</th>\n",
       "      <th>Profit</th>\n",
       "      <th>Month</th>\n",
       "      <th>Season</th>\n",
       "      <th>genres</th>\n",
       "    </tr>\n",
       "  </thead>\n",
       "  <tbody>\n",
       "    <tr>\n",
       "      <th>2844</th>\n",
       "      <td>NaN</td>\n",
       "      <td>1980.0</td>\n",
       "      <td>Maniac</td>\n",
       "      <td>tt2103217</td>\n",
       "      <td>89</td>\n",
       "      <td>6.1</td>\n",
       "      <td>34321.0</td>\n",
       "      <td>17.0</td>\n",
       "      <td>17.0</td>\n",
       "      <td>1980-01-01</td>\n",
       "      <td>Maniac</td>\n",
       "      <td>1.445080e+07</td>\n",
       "      <td>4.128800e+08</td>\n",
       "      <td>4.128800e+08</td>\n",
       "      <td>both</td>\n",
       "      <td>0.000000e+00</td>\n",
       "      <td>3.984292e+08</td>\n",
       "      <td>1.0</td>\n",
       "      <td>Winter</td>\n",
       "      <td>[Horror, Thriller]</td>\n",
       "    </tr>\n",
       "    <tr>\n",
       "      <th>2858</th>\n",
       "      <td>NaN</td>\n",
       "      <td>1980.0</td>\n",
       "      <td>Dressed to Kill</td>\n",
       "      <td>tt0080661</td>\n",
       "      <td>104</td>\n",
       "      <td>7.1</td>\n",
       "      <td>33579.0</td>\n",
       "      <td>31.0</td>\n",
       "      <td>31.0</td>\n",
       "      <td>1980-01-01</td>\n",
       "      <td>Dressed to Kill</td>\n",
       "      <td>2.683720e+08</td>\n",
       "      <td>1.317046e+09</td>\n",
       "      <td>1.317046e+09</td>\n",
       "      <td>both</td>\n",
       "      <td>0.000000e+00</td>\n",
       "      <td>1.048674e+09</td>\n",
       "      <td>1.0</td>\n",
       "      <td>Winter</td>\n",
       "      <td>[Mystery, Thriller]</td>\n",
       "    </tr>\n",
       "    <tr>\n",
       "      <th>3638</th>\n",
       "      <td>NaN</td>\n",
       "      <td>1980.0</td>\n",
       "      <td>Lion of the Desert</td>\n",
       "      <td>tt0081059</td>\n",
       "      <td>173</td>\n",
       "      <td>8.4</td>\n",
       "      <td>13529.0</td>\n",
       "      <td>30.0</td>\n",
       "      <td>30.0</td>\n",
       "      <td>1980-01-01</td>\n",
       "      <td>Lion of the Desert</td>\n",
       "      <td>1.445080e+09</td>\n",
       "      <td>6.193200e+07</td>\n",
       "      <td>6.193200e+07</td>\n",
       "      <td>both</td>\n",
       "      <td>0.000000e+00</td>\n",
       "      <td>-1.383148e+09</td>\n",
       "      <td>1.0</td>\n",
       "      <td>Winter</td>\n",
       "      <td>[Biography, Drama, History]</td>\n",
       "    </tr>\n",
       "    <tr>\n",
       "      <th>3875</th>\n",
       "      <td>NaN</td>\n",
       "      <td>1980.0</td>\n",
       "      <td>Terror Train</td>\n",
       "      <td>tt0081617</td>\n",
       "      <td>97</td>\n",
       "      <td>5.9</td>\n",
       "      <td>9410.0</td>\n",
       "      <td>31.0</td>\n",
       "      <td>31.0</td>\n",
       "      <td>1980-01-01</td>\n",
       "      <td>Terror Train</td>\n",
       "      <td>1.445080e+08</td>\n",
       "      <td>3.303040e+08</td>\n",
       "      <td>3.303040e+08</td>\n",
       "      <td>both</td>\n",
       "      <td>0.000000e+00</td>\n",
       "      <td>1.857960e+08</td>\n",
       "      <td>1.0</td>\n",
       "      <td>Winter</td>\n",
       "      <td>[Horror, Mystery, Thriller]</td>\n",
       "    </tr>\n",
       "    <tr>\n",
       "      <th>2145</th>\n",
       "      <td>NaN</td>\n",
       "      <td>1980.0</td>\n",
       "      <td>The Fog</td>\n",
       "      <td>tt0080749</td>\n",
       "      <td>89</td>\n",
       "      <td>6.8</td>\n",
       "      <td>61621.0</td>\n",
       "      <td>56.0</td>\n",
       "      <td>56.0</td>\n",
       "      <td>1980-02-01</td>\n",
       "      <td>The Fog</td>\n",
       "      <td>4.541680e+07</td>\n",
       "      <td>8.854343e+08</td>\n",
       "      <td>8.854550e+08</td>\n",
       "      <td>both</td>\n",
       "      <td>2.072658e+04</td>\n",
       "      <td>8.400382e+08</td>\n",
       "      <td>2.0</td>\n",
       "      <td>Winter</td>\n",
       "      <td>[Horror, Thriller]</td>\n",
       "    </tr>\n",
       "    <tr>\n",
       "      <th>...</th>\n",
       "      <td>...</td>\n",
       "      <td>...</td>\n",
       "      <td>...</td>\n",
       "      <td>...</td>\n",
       "      <td>...</td>\n",
       "      <td>...</td>\n",
       "      <td>...</td>\n",
       "      <td>...</td>\n",
       "      <td>...</td>\n",
       "      <td>...</td>\n",
       "      <td>...</td>\n",
       "      <td>...</td>\n",
       "      <td>...</td>\n",
       "      <td>...</td>\n",
       "      <td>...</td>\n",
       "      <td>...</td>\n",
       "      <td>...</td>\n",
       "      <td>...</td>\n",
       "      <td>...</td>\n",
       "      <td>...</td>\n",
       "    </tr>\n",
       "    <tr>\n",
       "      <th>2387</th>\n",
       "      <td>NaN</td>\n",
       "      <td>2019.0</td>\n",
       "      <td>Midway</td>\n",
       "      <td>tt6924650</td>\n",
       "      <td>138</td>\n",
       "      <td>6.7</td>\n",
       "      <td>50616.0</td>\n",
       "      <td>39.0</td>\n",
       "      <td>39.0</td>\n",
       "      <td>2019-11-07</td>\n",
       "      <td>Midway</td>\n",
       "      <td>1.032200e+08</td>\n",
       "      <td>5.867727e+07</td>\n",
       "      <td>1.289921e+08</td>\n",
       "      <td>both</td>\n",
       "      <td>7.031483e+07</td>\n",
       "      <td>2.577210e+07</td>\n",
       "      <td>11.0</td>\n",
       "      <td>Fall</td>\n",
       "      <td>[Action, Adventure, Drama]</td>\n",
       "    </tr>\n",
       "    <tr>\n",
       "      <th>4654</th>\n",
       "      <td>NaN</td>\n",
       "      <td>2017.0</td>\n",
       "      <td>The Islands</td>\n",
       "      <td>tt5304664</td>\n",
       "      <td>89</td>\n",
       "      <td>5.7</td>\n",
       "      <td>722.0</td>\n",
       "      <td>6.0</td>\n",
       "      <td>6.0</td>\n",
       "      <td>2019-12-06</td>\n",
       "      <td>The Islands</td>\n",
       "      <td>3.715920e+06</td>\n",
       "      <td>0.000000e+00</td>\n",
       "      <td>0.000000e+00</td>\n",
       "      <td>both</td>\n",
       "      <td>0.000000e+00</td>\n",
       "      <td>-3.715920e+06</td>\n",
       "      <td>12.0</td>\n",
       "      <td>Winter</td>\n",
       "      <td>[Adventure]</td>\n",
       "    </tr>\n",
       "    <tr>\n",
       "      <th>3167</th>\n",
       "      <td>NaN</td>\n",
       "      <td>2006.0</td>\n",
       "      <td>Black Christmas</td>\n",
       "      <td>tt0454082</td>\n",
       "      <td>84</td>\n",
       "      <td>4.6</td>\n",
       "      <td>24291.0</td>\n",
       "      <td>25.0</td>\n",
       "      <td>25.0</td>\n",
       "      <td>2019-12-13</td>\n",
       "      <td>Black Christmas</td>\n",
       "      <td>7.225400e+07</td>\n",
       "      <td>1.507179e+08</td>\n",
       "      <td>2.677558e+08</td>\n",
       "      <td>both</td>\n",
       "      <td>1.170379e+08</td>\n",
       "      <td>1.955018e+08</td>\n",
       "      <td>12.0</td>\n",
       "      <td>Winter</td>\n",
       "      <td>[Horror]</td>\n",
       "    </tr>\n",
       "    <tr>\n",
       "      <th>1351</th>\n",
       "      <td>NaN</td>\n",
       "      <td>1994.0</td>\n",
       "      <td>Little Women</td>\n",
       "      <td>tt3281548</td>\n",
       "      <td>135</td>\n",
       "      <td>7.9</td>\n",
       "      <td>113879.0</td>\n",
       "      <td>48.0</td>\n",
       "      <td>48.0</td>\n",
       "      <td>2019-12-25</td>\n",
       "      <td>Little Women</td>\n",
       "      <td>1.127162e+09</td>\n",
       "      <td>2.900993e+09</td>\n",
       "      <td>5.610732e+09</td>\n",
       "      <td>both</td>\n",
       "      <td>2.709739e+09</td>\n",
       "      <td>4.483569e+09</td>\n",
       "      <td>12.0</td>\n",
       "      <td>Winter</td>\n",
       "      <td>[Drama, Romance]</td>\n",
       "    </tr>\n",
       "    <tr>\n",
       "      <th>1132</th>\n",
       "      <td>NaN</td>\n",
       "      <td>2004.0</td>\n",
       "      <td>The Grudge</td>\n",
       "      <td>tt0391198</td>\n",
       "      <td>91</td>\n",
       "      <td>5.9</td>\n",
       "      <td>136741.0</td>\n",
       "      <td>37.0</td>\n",
       "      <td>37.0</td>\n",
       "      <td>2019-12-31</td>\n",
       "      <td>The Grudge</td>\n",
       "      <td>1.651520e+08</td>\n",
       "      <td>3.503889e+08</td>\n",
       "      <td>8.175563e+08</td>\n",
       "      <td>both</td>\n",
       "      <td>4.671674e+08</td>\n",
       "      <td>6.524043e+08</td>\n",
       "      <td>12.0</td>\n",
       "      <td>Winter</td>\n",
       "      <td>[Horror, Mystery, Thriller]</td>\n",
       "    </tr>\n",
       "  </tbody>\n",
       "</table>\n",
       "<p>4859 rows × 20 columns</p>\n",
       "</div>"
      ],
      "text/plain": [
       "     studio    year         Movie_title     tconst runtimeMinutes  \\\n",
       "2844    NaN  1980.0              Maniac  tt2103217             89   \n",
       "2858    NaN  1980.0     Dressed to Kill  tt0080661            104   \n",
       "3638    NaN  1980.0  Lion of the Desert  tt0081059            173   \n",
       "3875    NaN  1980.0        Terror Train  tt0081617             97   \n",
       "2145    NaN  1980.0             The Fog  tt0080749             89   \n",
       "...     ...     ...                 ...        ...            ...   \n",
       "2387    NaN  2019.0              Midway  tt6924650            138   \n",
       "4654    NaN  2017.0         The Islands  tt5304664             89   \n",
       "3167    NaN  2006.0     Black Christmas  tt0454082             84   \n",
       "1351    NaN  1994.0        Little Women  tt3281548            135   \n",
       "1132    NaN  2004.0          The Grudge  tt0391198             91   \n",
       "\n",
       "      averageRating  numVotes  region  language Release_Date  \\\n",
       "2844            6.1   34321.0    17.0      17.0   1980-01-01   \n",
       "2858            7.1   33579.0    31.0      31.0   1980-01-01   \n",
       "3638            8.4   13529.0    30.0      30.0   1980-01-01   \n",
       "3875            5.9    9410.0    31.0      31.0   1980-01-01   \n",
       "2145            6.8   61621.0    56.0      56.0   1980-02-01   \n",
       "...             ...       ...     ...       ...          ...   \n",
       "2387            6.7   50616.0    39.0      39.0   2019-11-07   \n",
       "4654            5.7     722.0     6.0       6.0   2019-12-06   \n",
       "3167            4.6   24291.0    25.0      25.0   2019-12-13   \n",
       "1351            7.9  113879.0    48.0      48.0   2019-12-25   \n",
       "1132            5.9  136741.0    37.0      37.0   2019-12-31   \n",
       "\n",
       "              Movie_Name  Production_Budget  Gross_Domestic  Gross_Worldwide  \\\n",
       "2844              Maniac       1.445080e+07    4.128800e+08     4.128800e+08   \n",
       "2858     Dressed to Kill       2.683720e+08    1.317046e+09     1.317046e+09   \n",
       "3638  Lion of the Desert       1.445080e+09    6.193200e+07     6.193200e+07   \n",
       "3875        Terror Train       1.445080e+08    3.303040e+08     3.303040e+08   \n",
       "2145             The Fog       4.541680e+07    8.854343e+08     8.854550e+08   \n",
       "...                  ...                ...             ...              ...   \n",
       "2387              Midway       1.032200e+08    5.867727e+07     1.289921e+08   \n",
       "4654         The Islands       3.715920e+06    0.000000e+00     0.000000e+00   \n",
       "3167     Black Christmas       7.225400e+07    1.507179e+08     2.677558e+08   \n",
       "1351        Little Women       1.127162e+09    2.900993e+09     5.610732e+09   \n",
       "1132          The Grudge       1.651520e+08    3.503889e+08     8.175563e+08   \n",
       "\n",
       "     _merge  Gross_Foreign_Only        Profit  Month  Season  \\\n",
       "2844   both        0.000000e+00  3.984292e+08    1.0  Winter   \n",
       "2858   both        0.000000e+00  1.048674e+09    1.0  Winter   \n",
       "3638   both        0.000000e+00 -1.383148e+09    1.0  Winter   \n",
       "3875   both        0.000000e+00  1.857960e+08    1.0  Winter   \n",
       "2145   both        2.072658e+04  8.400382e+08    2.0  Winter   \n",
       "...     ...                 ...           ...    ...     ...   \n",
       "2387   both        7.031483e+07  2.577210e+07   11.0    Fall   \n",
       "4654   both        0.000000e+00 -3.715920e+06   12.0  Winter   \n",
       "3167   both        1.170379e+08  1.955018e+08   12.0  Winter   \n",
       "1351   both        2.709739e+09  4.483569e+09   12.0  Winter   \n",
       "1132   both        4.671674e+08  6.524043e+08   12.0  Winter   \n",
       "\n",
       "                           genres  \n",
       "2844           [Horror, Thriller]  \n",
       "2858          [Mystery, Thriller]  \n",
       "3638  [Biography, Drama, History]  \n",
       "3875  [Horror, Mystery, Thriller]  \n",
       "2145           [Horror, Thriller]  \n",
       "...                           ...  \n",
       "2387   [Action, Adventure, Drama]  \n",
       "4654                  [Adventure]  \n",
       "3167                     [Horror]  \n",
       "1351             [Drama, Romance]  \n",
       "1132  [Horror, Mystery, Thriller]  \n",
       "\n",
       "[4859 rows x 20 columns]"
      ]
     },
     "execution_count": 62,
     "metadata": {},
     "output_type": "execute_result"
    }
   ],
   "source": [
    "df_filter.sort_values(by=['Release_Date', 'studio'])"
   ]
  },
  {
   "cell_type": "markdown",
   "metadata": {},
   "source": [
    "Here we are going to group our films by what year they came out, and by what studio created them. We're looking at the number of films released by a studio that year, how much money it made, and alongside that, the costs to create it."
   ]
  },
  {
   "cell_type": "code",
   "execution_count": 63,
   "metadata": {},
   "outputs": [],
   "source": [
    "studio_df = df_filter.loc[df_filter['studio'] != 'NaN'].groupby(['year', 'studio']).agg({\n",
    "                                                'Movie_title' : 'count', \n",
    "                                               'numVotes' : 'median',\n",
    "                                               'Production_Budget' : 'median',\n",
    "                                               'Gross_Domestic' : 'median',\n",
    "                                               'Gross_Worldwide' : 'median',\n",
    "                                               'Profit' : 'median'})"
   ]
  },
  {
   "cell_type": "code",
   "execution_count": 64,
   "metadata": {},
   "outputs": [
    {
     "data": {
      "text/html": [
       "<div>\n",
       "<style scoped>\n",
       "    .dataframe tbody tr th:only-of-type {\n",
       "        vertical-align: middle;\n",
       "    }\n",
       "\n",
       "    .dataframe tbody tr th {\n",
       "        vertical-align: top;\n",
       "    }\n",
       "\n",
       "    .dataframe thead th {\n",
       "        text-align: right;\n",
       "    }\n",
       "</style>\n",
       "<table border=\"1\" class=\"dataframe\">\n",
       "  <thead>\n",
       "    <tr style=\"text-align: right;\">\n",
       "      <th></th>\n",
       "      <th></th>\n",
       "      <th>Movie_title</th>\n",
       "      <th>numVotes</th>\n",
       "      <th>Production_Budget</th>\n",
       "      <th>Gross_Domestic</th>\n",
       "      <th>Gross_Worldwide</th>\n",
       "      <th>Profit</th>\n",
       "    </tr>\n",
       "    <tr>\n",
       "      <th>year</th>\n",
       "      <th>studio</th>\n",
       "      <th></th>\n",
       "      <th></th>\n",
       "      <th></th>\n",
       "      <th></th>\n",
       "      <th></th>\n",
       "      <th></th>\n",
       "    </tr>\n",
       "  </thead>\n",
       "  <tbody>\n",
       "    <tr>\n",
       "      <th rowspan=\"5\" valign=\"top\">2010.0</th>\n",
       "      <th>ATO</th>\n",
       "      <td>1</td>\n",
       "      <td>16548.0</td>\n",
       "      <td>129025000.0</td>\n",
       "      <td>2.105553e+07</td>\n",
       "      <td>2.345350e+07</td>\n",
       "      <td>-1.055715e+08</td>\n",
       "    </tr>\n",
       "    <tr>\n",
       "      <th>Anch.</th>\n",
       "      <td>5</td>\n",
       "      <td>30248.0</td>\n",
       "      <td>46449000.0</td>\n",
       "      <td>1.723568e+06</td>\n",
       "      <td>2.561843e+07</td>\n",
       "      <td>-4.867122e+06</td>\n",
       "    </tr>\n",
       "    <tr>\n",
       "      <th>App.</th>\n",
       "      <td>1</td>\n",
       "      <td>45497.0</td>\n",
       "      <td>98059000.0</td>\n",
       "      <td>3.688745e+07</td>\n",
       "      <td>5.448604e+07</td>\n",
       "      <td>-4.357296e+07</td>\n",
       "    </tr>\n",
       "    <tr>\n",
       "      <th>BV</th>\n",
       "      <td>7</td>\n",
       "      <td>79213.0</td>\n",
       "      <td>825760000.0</td>\n",
       "      <td>6.497739e+08</td>\n",
       "      <td>9.566321e+08</td>\n",
       "      <td>5.985348e+08</td>\n",
       "    </tr>\n",
       "    <tr>\n",
       "      <th>CBS</th>\n",
       "      <td>2</td>\n",
       "      <td>57051.0</td>\n",
       "      <td>283855000.0</td>\n",
       "      <td>1.843652e+08</td>\n",
       "      <td>2.664105e+08</td>\n",
       "      <td>-1.744455e+07</td>\n",
       "    </tr>\n",
       "  </tbody>\n",
       "</table>\n",
       "</div>"
      ],
      "text/plain": [
       "               Movie_title  numVotes  Production_Budget  Gross_Domestic  \\\n",
       "year   studio                                                             \n",
       "2010.0 ATO               1   16548.0        129025000.0    2.105553e+07   \n",
       "       Anch.             5   30248.0         46449000.0    1.723568e+06   \n",
       "       App.              1   45497.0         98059000.0    3.688745e+07   \n",
       "       BV                7   79213.0        825760000.0    6.497739e+08   \n",
       "       CBS               2   57051.0        283855000.0    1.843652e+08   \n",
       "\n",
       "               Gross_Worldwide        Profit  \n",
       "year   studio                                 \n",
       "2010.0 ATO        2.345350e+07 -1.055715e+08  \n",
       "       Anch.      2.561843e+07 -4.867122e+06  \n",
       "       App.       5.448604e+07 -4.357296e+07  \n",
       "       BV         9.566321e+08  5.985348e+08  \n",
       "       CBS        2.664105e+08 -1.744455e+07  "
      ]
     },
     "execution_count": 64,
     "metadata": {},
     "output_type": "execute_result"
    }
   ],
   "source": [
    "studio_df.head()"
   ]
  },
  {
   "cell_type": "code",
   "execution_count": 65,
   "metadata": {},
   "outputs": [
    {
     "data": {
      "text/plain": [
       "[Text(0, 0.5, 'Median Profit ($)'),\n",
       " Text(0.5, 0, 'Number of Movies in a Year by a Studio'),\n",
       " Text(0.5, 1.0, 'Median Profit per Year By Number of Releases')]"
      ]
     },
     "execution_count": 65,
     "metadata": {},
     "output_type": "execute_result"
    },
    {
     "data": {
      "image/png": "[encoded data removed]",
      "text/plain": [
       "<Figure size 432x288 with 1 Axes>"
      ]
     },
     "metadata": {
      "needs_background": "light"
     },
     "output_type": "display_data"
    }
   ],
   "source": [
    "boxplot1 = sns.boxplot(x='Movie_title', y='Profit', data=studio_df)\n",
    "boxplot1.set(xlabel = \"Number of Movies in a Year by a Studio\", ylabel='Median Profit ($)', title='Median Profit per Year By Number of Releases')"
   ]
  },
  {
   "cell_type": "code",
   "execution_count": 66,
   "metadata": {},
   "outputs": [
    {
     "data": {
      "text/plain": [
       "[Text(0, 0.5, 'Median Fanvotes ($)'),\n",
       " Text(0.5, 0, 'Number of Movies in a Year by a Studio'),\n",
       " Text(0.5, 1.0, 'Median Fanvotes per Year By Number of Releases')]"
      ]
     },
     "execution_count": 66,
     "metadata": {},
     "output_type": "execute_result"
    },
    {
     "data": {
      "image/png": "[encoded data removed]",
      "text/plain": [
       "<Figure size 432x288 with 1 Axes>"
      ]
     },
     "metadata": {
      "needs_background": "light"
     },
     "output_type": "display_data"
    }
   ],
   "source": [
    "boxplot2 = sns.boxplot(x='Movie_title', y='numVotes', data=studio_df)\n",
    "boxplot2.set(xlabel = \"Number of Movies in a Year by a Studio\", ylabel='Median Fanvotes ($)', title='Median Fanvotes per Year By Number of Releases')"
   ]
  },
  {
   "cell_type": "markdown",
   "metadata": {},
   "source": [
    "Looks like the best amount of movies to release in a year around 10? "
   ]
  },
  {
   "cell_type": "code",
   "execution_count": null,
   "metadata": {},
   "outputs": [],
   "source": []
  }
 ],
 "metadata": {
  "kernelspec": {
   "display_name": "learn-env",
   "language": "python",
   "name": "learn-env"
  },
  "language_info": {
   "codemirror_mode": {
    "name": "ipython",
    "version": 3
   },
   "file_extension": ".py",
   "mimetype": "text/x-python",
   "name": "python",
   "nbconvert_exporter": "python",
   "pygments_lexer": "ipython3",
   "version": "3.7.6"
  }
 },
 "nbformat": 4,
 "nbformat_minor": 2
}
