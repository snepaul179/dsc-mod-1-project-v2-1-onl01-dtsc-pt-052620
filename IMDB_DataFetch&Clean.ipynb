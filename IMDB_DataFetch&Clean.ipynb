{
 "cells": [
  {
   "cell_type": "markdown",
   "metadata": {},
   "source": [
    "After importing new data from https://datasets.imdbws.com/. We will review each data and clean it for our purpose. "
   ]
  },
  {
   "cell_type": "code",
   "execution_count": 1,
   "metadata": {
    "ExecuteTime": {
     "end_time": "2020-07-16T00:04:10.054713Z",
     "start_time": "2020-07-16T00:04:07.996751Z"
    }
   },
   "outputs": [],
   "source": [
    "# Import required Libraries\n",
    "\n",
    "import pandas as pd\n",
    "from bs4 import BeautifulSoup"
   ]
  },
  {
   "cell_type": "code",
   "execution_count": 2,
   "metadata": {
    "ExecuteTime": {
     "end_time": "2020-07-16T00:09:02.799051Z",
     "start_time": "2020-07-16T00:07:00.390638Z"
    },
    "scrolled": true
   },
   "outputs": [
    {
     "name": "stderr",
     "output_type": "stream",
     "text": [
      "/opt/anaconda3/envs/learn-env/lib/python3.6/site-packages/IPython/core/interactiveshell.py:3058: DtypeWarning: Columns (5) have mixed types. Specify dtype option on import or set low_memory=False.\n",
      "  interactivity=interactivity, compiler=compiler, result=result)\n",
      "/opt/anaconda3/envs/learn-env/lib/python3.6/site-packages/IPython/core/interactiveshell.py:3058: DtypeWarning: Columns (7) have mixed types. Specify dtype option on import or set low_memory=False.\n",
      "  interactivity=interactivity, compiler=compiler, result=result)\n"
     ]
    },
    {
     "name": "stdout",
     "output_type": "stream",
     "text": [
      "imdbTitleBasics\n",
      "       tconst titleType            primaryTitle           originalTitle  \\\n",
      "0  tt0000001     short              Carmencita              Carmencita   \n",
      "1  tt0000002     short  Le clown et ses chiens  Le clown et ses chiens   \n",
      "2  tt0000003     short          Pauvre Pierrot          Pauvre Pierrot   \n",
      "3  tt0000004     short             Un bon bock             Un bon bock   \n",
      "4  tt0000005     short        Blacksmith Scene        Blacksmith Scene   \n",
      "\n",
      "   isAdult startYear endYear runtimeMinutes genres  \n",
      "0        0      1894      \\N              1     \\N  \n",
      "1        0      1892      \\N              5     \\N  \n",
      "2        0      1892      \\N              4     \\N  \n",
      "3        0      1892      \\N             12     \\N  \n",
      "4        0      1893      \\N              1     \\N   \n",
      " (6974100, 9) \n",
      "\n",
      "imdbTitleAkas\n",
      "      titleId  ordering                      title region language  \\\n",
      "0  tt0000001         1                 Карменсіта     UA       \\N   \n",
      "1  tt0000001         2                 Carmencita     DE       \\N   \n",
      "2  tt0000001         3  Carmencita - spanyol tánc     HU       \\N   \n",
      "3  tt0000001         4                 Καρμενσίτα     GR       \\N   \n",
      "4  tt0000001         5                 Карменсита     RU       \\N   \n",
      "\n",
      "         types     attributes isOriginalTitle  \n",
      "0  imdbDisplay             \\N               0  \n",
      "1           \\N  literal title               0  \n",
      "2  imdbDisplay             \\N               0  \n",
      "3  imdbDisplay             \\N               0  \n",
      "4  imdbDisplay             \\N               0   \n",
      " (22295047, 8) \n",
      "\n",
      "imdbTitleCrew\n",
      "       tconst  directors writers\n",
      "0  tt0000001  nm0005690      \\N\n",
      "1  tt0000002  nm0721526      \\N\n",
      "2  tt0000003  nm0721526      \\N\n",
      "3  tt0000004  nm0721526      \\N\n",
      "4  tt0000005  nm0005690      \\N \n",
      " (6974100, 3) \n",
      "\n",
      "imdbTitlePrincipals\n",
      "       tconst  ordering     nconst         category                      job  \\\n",
      "0  tt0000001         1  nm1588970             self                       \\N   \n",
      "1  tt0000001         2  nm0005690         director                       \\N   \n",
      "2  tt0000001         3  nm0374658  cinematographer  director of photography   \n",
      "3  tt0000002         1  nm0721526         director                       \\N   \n",
      "4  tt0000002         2  nm1335271         composer                       \\N   \n",
      "\n",
      "  characters  \n",
      "0   [\"Self\"]  \n",
      "1         \\N  \n",
      "2         \\N  \n",
      "3         \\N  \n",
      "4         \\N   \n",
      " (40116932, 6) \n",
      "\n",
      "imdbTitleRatings\n",
      "       tconst  averageRating  numVotes\n",
      "0  tt0000001            5.6      1626\n",
      "1  tt0000002            6.1       196\n",
      "2  tt0000003            6.5      1315\n",
      "3  tt0000004            6.2       119\n",
      "4  tt0000005            6.1      2097 \n",
      " (1053231, 3) \n",
      "\n",
      "imdbNameBasics\n",
      "       nconst      primaryName birthYear deathYear  \\\n",
      "0  nm0000001     Fred Astaire        \\N        \\N   \n",
      "1  nm0000002    Lauren Bacall        \\N        \\N   \n",
      "2  nm0000003  Brigitte Bardot      1934        \\N   \n",
      "3  nm0000004     John Belushi        \\N        \\N   \n",
      "4  nm0000005   Ingmar Bergman        \\N        \\N   \n",
      "\n",
      "                     primaryProfession  \\\n",
      "0       soundtrack,actor,miscellaneous   \n",
      "1                   actress,soundtrack   \n",
      "2  actress,soundtrack,music_department   \n",
      "3              actor,soundtrack,writer   \n",
      "4                writer,director,actor   \n",
      "\n",
      "                            knownForTitles  \n",
      "0  tt0043044,tt0053137,tt0050419,tt0072308  \n",
      "1  tt0071877,tt0038355,tt0117057,tt0037382  \n",
      "2  tt0049189,tt0057345,tt0059956,tt0054452  \n",
      "3  tt0072562,tt0080455,tt0078723,tt0077975  \n",
      "4  tt0050986,tt0060827,tt0050976,tt0083922   \n",
      " (10218302, 6) \n",
      "\n"
     ]
    }
   ],
   "source": [
    "# Import all the IMDB files into DataFrame and review table shapes\n",
    "imdbTitleBasics = pd.read_csv('Data/title.basics.tsv',  delimiter='\\t') \n",
    "imdbTitleAkas = pd.read_csv('Data/title.akas.tsv', delimiter='\\t')\n",
    "imdbTitleCrew = pd.read_csv('Data/title.crew.tsv', delimiter='\\t') # not reqiured as the info is also in imdbTitlePrincipals\n",
    "imdbTitlePrincipals = pd.read_csv('Data/title.principals.tsv', delimiter='\\t')\n",
    "imdbTitleRatings = pd.read_csv('Data/title.ratings.tsv', delimiter='\\t')\n",
    "imdbNameBasics = pd.read_csv('Data/name.basics.tsv', delimiter='\\t') \n",
    "\n",
    "print('imdbTitleBasics''\\n', imdbTitleBasics.head(),'\\n', imdbTitleBasics.shape,'\\n')  \n",
    "print('imdbTitleAkas''\\n', imdbTitleAkas.head(),'\\n', imdbTitleAkas.shape,'\\n')\n",
    "print('imdbTitleCrew''\\n', imdbTitleCrew.head(),'\\n', imdbTitleCrew.shape,'\\n')\n",
    "print('imdbTitlePrincipals''\\n', imdbTitlePrincipals.head(),'\\n', imdbTitlePrincipals.shape,'\\n')\n",
    "print('imdbTitleRatings''\\n', imdbTitleRatings.head(),'\\n', imdbTitleRatings.shape,'\\n')\n",
    "print('imdbNameBasics''\\n', imdbNameBasics.head(),'\\n', imdbNameBasics.shape,'\\n')"
   ]
  },
  {
   "cell_type": "code",
   "execution_count": 3,
   "metadata": {
    "ExecuteTime": {
     "end_time": "2020-07-16T00:11:48.589807Z",
     "start_time": "2020-07-16T00:11:47.802555Z"
    },
    "scrolled": false
   },
   "outputs": [
    {
     "name": "stdout",
     "output_type": "stream",
     "text": [
      "['short' 'movie' 'tvMovie' 'tvSeries' 'tvEpisode' 'tvShort' 'tvMiniSeries'\n",
      " 'tvSpecial' 'video' 'videoGame']\n",
      "[1894 1892 1893 1895 1896 1898 1897 1900 1899 1901 1904 1903 1902 1905\n",
      " 1912 1907 1906 1908 1910 1909 1914 1911 1913 1915 1919 1916 1917 1918\n",
      " 1936 1925 1920 1922 1921 1923 1924 1928 1926 1927 1929 1993 1935 2014\n",
      " 1930 2004 1942 1934 1931 1932 1939 1937 1933 1950 1938 1951 1945 1946\n",
      " 1940 1944 1949 1947 1941 1952 1970 1957 1943 1959 1948 2001 1953 1954\n",
      " 1965 1983 1980 1973 1961 1995 1955 1962 1958 1956 1960 1964 1967 1968\n",
      " 1963 1969 1985 1971 1972 1966 1976 1990 2020 1986 1979 1987 1974 1981\n",
      " 1988 1975 1978 1977 2010 1989 '1972' '1971' '1970' '1967' '1973' '1974'\n",
      " '1976' '1969' '1968' '1985' '\\\\N' '1981' '1977' '1980' '1986' '1965'\n",
      " '1987' '1975' '1978' '2010' '2018' '1979' '1989' '1988' '1984' '1966'\n",
      " '1983' '1995' '1982' '1992' '1991' '1952' '1963' '1961' '1994' '1993'\n",
      " '1990' '1964' '1957' '1999' '2005' '1953' '2019' '1998' '1996' '1947'\n",
      " '2002' '1997' '1959' '2004' '2017' '2000' '1945' '1956' '2001' '2013'\n",
      " '2006' '1955' '2009' '1949' '2008' '2003' '2007' '2020' '1960' '1930'\n",
      " '1938' '1929' '1944' '1935' '1962' '1919' '1951' '1914' '1954' '1958'\n",
      " '1907' '1942' '1918' '1943' '1921' '1927' '1941' '1939' '1940' '1937'\n",
      " '1950' '1946' '1916' '1948' '1934' '1912' '1911' '1926' '1933' '1936'\n",
      " '1925' '1932' '1913' '1928' '1917' '1920' '1931' '1895' '1922' '1923'\n",
      " '1924' '1900' '1908' '1915' '1910' '1897' '1905' '1909' '1903' '2016'\n",
      " '1902' '1901' '1906' '1904' '1898' '1896' '1899' '2012' '2014' '2011'\n",
      " '1894' '2015' '1892' '1893' '1891' '2021' '1888' '1890' '2022' '1889'\n",
      " '2024' '2023' '2026' '2027' '2025' '1878' '1887' '1874' '2115' '1883'\n",
      " '1881' '1885']\n"
     ]
    }
   ],
   "source": [
    "# Review Dfs \n",
    "print(imdbTitleBasics.titleType.unique())\n",
    "print(imdbTitleBasics.startYear.unique())"
   ]
  },
  {
   "cell_type": "code",
   "execution_count": 5,
   "metadata": {
    "ExecuteTime": {
     "end_time": "2020-07-16T00:16:15.428806Z",
     "start_time": "2020-07-16T00:16:14.473200Z"
    }
   },
   "outputs": [],
   "source": [
    "# Clean the imdbTitleBasics to select for only movies untill 2020. Also remove rows with missing data\n",
    "imdbTitleBasics.drop(imdbTitleBasics[imdbTitleBasics['titleType'] != 'movie'].index, inplace = True)\n",
    "imdbTitleBasics.drop(imdbTitleBasics[imdbTitleBasics['startYear'] == '\\\\N'].index, inplace = True)\n",
    "imdbTitleBasics['startYear'] = imdbTitleBasics['startYear'].astype('int32') # convert\n",
    "imdbTitleBasics.drop(imdbTitleBasics[imdbTitleBasics['startYear'] > 2020].index, inplace = True)"
   ]
  },
  {
   "cell_type": "code",
   "execution_count": 212,
   "metadata": {
    "ExecuteTime": {
     "end_time": "2020-07-18T01:52:21.638606Z",
     "start_time": "2020-07-18T01:52:18.577279Z"
    }
   },
   "outputs": [],
   "source": [
    "imdbTitleBasics.drop(imdbTitleBasics[imdbTitleBasics['startYear'] < 1980].index, inplace = True)"
   ]
  },
  {
   "cell_type": "code",
   "execution_count": 213,
   "metadata": {
    "ExecuteTime": {
     "end_time": "2020-07-18T01:52:50.078578Z",
     "start_time": "2020-07-18T01:52:50.048672Z"
    }
   },
   "outputs": [
    {
     "name": "stdout",
     "output_type": "stream",
     "text": [
      "1980 2020\n"
     ]
    },
    {
     "data": {
      "text/html": [
       "<div>\n",
       "<style scoped>\n",
       "    .dataframe tbody tr th:only-of-type {\n",
       "        vertical-align: middle;\n",
       "    }\n",
       "\n",
       "    .dataframe tbody tr th {\n",
       "        vertical-align: top;\n",
       "    }\n",
       "\n",
       "    .dataframe thead th {\n",
       "        text-align: right;\n",
       "    }\n",
       "</style>\n",
       "<table border=\"1\" class=\"dataframe\">\n",
       "  <thead>\n",
       "    <tr style=\"text-align: right;\">\n",
       "      <th></th>\n",
       "      <th>tconst</th>\n",
       "      <th>primaryTitle</th>\n",
       "      <th>originalTitle</th>\n",
       "      <th>startYear</th>\n",
       "      <th>runtimeMinutes</th>\n",
       "    </tr>\n",
       "  </thead>\n",
       "  <tbody>\n",
       "    <tr>\n",
       "      <td>15494</td>\n",
       "      <td>tt0015724</td>\n",
       "      <td>Dama de noche</td>\n",
       "      <td>Dama de noche</td>\n",
       "      <td>1993</td>\n",
       "      <td>102</td>\n",
       "    </tr>\n",
       "    <tr>\n",
       "      <td>16664</td>\n",
       "      <td>tt0016906</td>\n",
       "      <td>Frivolinas</td>\n",
       "      <td>Frivolinas</td>\n",
       "      <td>2014</td>\n",
       "      <td>80</td>\n",
       "    </tr>\n",
       "    <tr>\n",
       "      <td>34814</td>\n",
       "      <td>tt0035423</td>\n",
       "      <td>Kate &amp; Leopold</td>\n",
       "      <td>Kate &amp; Leopold</td>\n",
       "      <td>2001</td>\n",
       "      <td>118</td>\n",
       "    </tr>\n",
       "    <tr>\n",
       "      <td>35978</td>\n",
       "      <td>tt0036606</td>\n",
       "      <td>Another Time, Another Place</td>\n",
       "      <td>Another Time, Another Place</td>\n",
       "      <td>1983</td>\n",
       "      <td>118</td>\n",
       "    </tr>\n",
       "    <tr>\n",
       "      <td>38022</td>\n",
       "      <td>tt0038687</td>\n",
       "      <td>Let There Be Light</td>\n",
       "      <td>Let There Be Light</td>\n",
       "      <td>1980</td>\n",
       "      <td>58</td>\n",
       "    </tr>\n",
       "  </tbody>\n",
       "</table>\n",
       "</div>"
      ],
      "text/plain": [
       "          tconst                 primaryTitle                originalTitle  \\\n",
       "15494  tt0015724                Dama de noche                Dama de noche   \n",
       "16664  tt0016906                   Frivolinas                   Frivolinas   \n",
       "34814  tt0035423               Kate & Leopold               Kate & Leopold   \n",
       "35978  tt0036606  Another Time, Another Place  Another Time, Another Place   \n",
       "38022  tt0038687           Let There Be Light           Let There Be Light   \n",
       "\n",
       "       startYear runtimeMinutes  \n",
       "15494       1993            102  \n",
       "16664       2014             80  \n",
       "34814       2001            118  \n",
       "35978       1983            118  \n",
       "38022       1980             58  "
      ]
     },
     "execution_count": 213,
     "metadata": {},
     "output_type": "execute_result"
    }
   ],
   "source": [
    "print(imdbTitleBasics['startYear'].min(), imdbTitleBasics['startYear'].max())\n",
    "imdbTitleBasics.head()"
   ]
  },
  {
   "cell_type": "code",
   "execution_count": 11,
   "metadata": {
    "ExecuteTime": {
     "end_time": "2020-07-16T00:21:35.536988Z",
     "start_time": "2020-07-16T00:21:35.383893Z"
    }
   },
   "outputs": [],
   "source": [
    "imdbTitleBasics.drop(imdbTitleBasics[imdbTitleBasics['isAdult'] == 1].index, inplace = True)"
   ]
  },
  {
   "cell_type": "code",
   "execution_count": 19,
   "metadata": {
    "ExecuteTime": {
     "end_time": "2020-07-16T00:44:57.699840Z",
     "start_time": "2020-07-16T00:44:57.617546Z"
    }
   },
   "outputs": [],
   "source": [
    "imdbTitleBasics.drop(columns=['titleType', 'isAdult', 'genres'], inplace=True)\n",
    "imdbTitleBasics.drop(columns=['endYear'], inplace=True)"
   ]
  },
  {
   "cell_type": "markdown",
   "metadata": {},
   "source": [
    "After cleaning the imdbTitleBasics for only movies untill 2020 clean all other IMDB tables using imdbTitleBasics2 'tconst' as index"
   ]
  },
  {
   "cell_type": "code",
   "execution_count": 214,
   "metadata": {
    "ExecuteTime": {
     "end_time": "2020-07-18T01:54:51.130555Z",
     "start_time": "2020-07-18T01:54:39.092876Z"
    }
   },
   "outputs": [
    {
     "name": "stdout",
     "output_type": "stream",
     "text": [
      "imdbTitleAkas shape is:  (1050533, 8) \n",
      "\n",
      "imdbTitlePrincipals shape is:  (2344223, 6) \n",
      "\n",
      "imdbTitleRatings shape is:  (176967, 3) \n",
      "\n"
     ]
    }
   ],
   "source": [
    "i1 = imdbTitleAkas.set_index('titleId').index\n",
    "i2 = imdbTitleBasics.set_index('tconst').index\n",
    "imdbTitleAkas = imdbTitleAkas[i1.isin(i2)]\n",
    "print('imdbTitleAkas shape is: ',  imdbTitleAkas.shape, '\\n')\n",
    "\n",
    "i1 = imdbTitlePrincipals.set_index('tconst').index\n",
    "i2 = imdbTitleBasics.set_index('tconst').index\n",
    "imdbTitlePrincipals = imdbTitlePrincipals[i1.isin(i2)]\n",
    "print('imdbTitlePrincipals shape is: ',  imdbTitlePrincipals.shape, '\\n')\n",
    "\n",
    "i1 = imdbTitleRatings.set_index('tconst').index\n",
    "i2 = imdbTitleBasics.set_index('tconst').index\n",
    "imdbTitleRatings = imdbTitleRatings[i1.isin(i2)]\n",
    "print('imdbTitleRatings shape is: ',  imdbTitleRatings.shape, '\\n')\n"
   ]
  },
  {
   "cell_type": "code",
   "execution_count": 17,
   "metadata": {
    "ExecuteTime": {
     "end_time": "2020-07-16T00:40:14.728971Z",
     "start_time": "2020-07-16T00:40:14.720217Z"
    }
   },
   "outputs": [
    {
     "name": "stdout",
     "output_type": "stream",
     "text": [
      "imdbTitleBasics shape is:  (479331, 6) \n",
      "\n"
     ]
    }
   ],
   "source": [
    "print('imdbTitleBasics shape is: ',  imdbTitleBasics.shape, '\\n')"
   ]
  },
  {
   "cell_type": "code",
   "execution_count": 21,
   "metadata": {
    "ExecuteTime": {
     "end_time": "2020-07-16T00:50:27.888118Z",
     "start_time": "2020-07-16T00:50:27.573447Z"
    }
   },
   "outputs": [
    {
     "data": {
      "text/html": [
       "<div>\n",
       "<style scoped>\n",
       "    .dataframe tbody tr th:only-of-type {\n",
       "        vertical-align: middle;\n",
       "    }\n",
       "\n",
       "    .dataframe tbody tr th {\n",
       "        vertical-align: top;\n",
       "    }\n",
       "\n",
       "    .dataframe thead th {\n",
       "        text-align: right;\n",
       "    }\n",
       "</style>\n",
       "<table border=\"1\" class=\"dataframe\">\n",
       "  <thead>\n",
       "    <tr style=\"text-align: right;\">\n",
       "      <th></th>\n",
       "      <th>tconst</th>\n",
       "      <th>primaryTitle</th>\n",
       "      <th>originalTitle</th>\n",
       "      <th>startYear</th>\n",
       "      <th>runtimeMinutes</th>\n",
       "    </tr>\n",
       "  </thead>\n",
       "  <tbody>\n",
       "    <tr>\n",
       "      <td>803</td>\n",
       "      <td>tt0000812</td>\n",
       "      <td>El blocao Velarde</td>\n",
       "      <td>El blocao Velarde</td>\n",
       "      <td>1909</td>\n",
       "      <td>\\N</td>\n",
       "    </tr>\n",
       "    <tr>\n",
       "      <td>805</td>\n",
       "      <td>tt0000814</td>\n",
       "      <td>La bocana de Mar Chica</td>\n",
       "      <td>La bocana de Mar Chica</td>\n",
       "      <td>1909</td>\n",
       "      <td>\\N</td>\n",
       "    </tr>\n",
       "    <tr>\n",
       "      <td>829</td>\n",
       "      <td>tt0000838</td>\n",
       "      <td>A Cultura do Cacau</td>\n",
       "      <td>A Cultura do Cacau</td>\n",
       "      <td>1909</td>\n",
       "      <td>\\N</td>\n",
       "    </tr>\n",
       "    <tr>\n",
       "      <td>833</td>\n",
       "      <td>tt0000842</td>\n",
       "      <td>De Garraf a Barcelona</td>\n",
       "      <td>De Garraf a Barcelona</td>\n",
       "      <td>1909</td>\n",
       "      <td>\\N</td>\n",
       "    </tr>\n",
       "    <tr>\n",
       "      <td>837</td>\n",
       "      <td>tt0000846</td>\n",
       "      <td>Un día en Xochimilco</td>\n",
       "      <td>Un día en Xochimilco</td>\n",
       "      <td>1909</td>\n",
       "      <td>\\N</td>\n",
       "    </tr>\n",
       "    <tr>\n",
       "      <td>...</td>\n",
       "      <td>...</td>\n",
       "      <td>...</td>\n",
       "      <td>...</td>\n",
       "      <td>...</td>\n",
       "      <td>...</td>\n",
       "    </tr>\n",
       "    <tr>\n",
       "      <td>6973989</td>\n",
       "      <td>tt9916622</td>\n",
       "      <td>Rodolpho Teóphilo - O Legado de um Pioneiro</td>\n",
       "      <td>Rodolpho Teóphilo - O Legado de um Pioneiro</td>\n",
       "      <td>2015</td>\n",
       "      <td>57</td>\n",
       "    </tr>\n",
       "    <tr>\n",
       "      <td>6974016</td>\n",
       "      <td>tt9916680</td>\n",
       "      <td>De la ilusión al desconcierto: cine colombiano...</td>\n",
       "      <td>De la ilusión al desconcierto: cine colombiano...</td>\n",
       "      <td>2007</td>\n",
       "      <td>100</td>\n",
       "    </tr>\n",
       "    <tr>\n",
       "      <td>6974028</td>\n",
       "      <td>tt9916706</td>\n",
       "      <td>Dankyavar Danka</td>\n",
       "      <td>Dankyavar Danka</td>\n",
       "      <td>2013</td>\n",
       "      <td>\\N</td>\n",
       "    </tr>\n",
       "    <tr>\n",
       "      <td>6974039</td>\n",
       "      <td>tt9916730</td>\n",
       "      <td>6 Gunn</td>\n",
       "      <td>6 Gunn</td>\n",
       "      <td>2017</td>\n",
       "      <td>116</td>\n",
       "    </tr>\n",
       "    <tr>\n",
       "      <td>6974050</td>\n",
       "      <td>tt9916754</td>\n",
       "      <td>Chico Albuquerque - Revelações</td>\n",
       "      <td>Chico Albuquerque - Revelações</td>\n",
       "      <td>2013</td>\n",
       "      <td>49</td>\n",
       "    </tr>\n",
       "  </tbody>\n",
       "</table>\n",
       "<p>233084 rows × 5 columns</p>\n",
       "</div>"
      ],
      "text/plain": [
       "            tconst                                       primaryTitle  \\\n",
       "803      tt0000812                                  El blocao Velarde   \n",
       "805      tt0000814                             La bocana de Mar Chica   \n",
       "829      tt0000838                                 A Cultura do Cacau   \n",
       "833      tt0000842                              De Garraf a Barcelona   \n",
       "837      tt0000846                               Un día en Xochimilco   \n",
       "...            ...                                                ...   \n",
       "6973989  tt9916622        Rodolpho Teóphilo - O Legado de um Pioneiro   \n",
       "6974016  tt9916680  De la ilusión al desconcierto: cine colombiano...   \n",
       "6974028  tt9916706                                    Dankyavar Danka   \n",
       "6974039  tt9916730                                             6 Gunn   \n",
       "6974050  tt9916754                     Chico Albuquerque - Revelações   \n",
       "\n",
       "                                             originalTitle  startYear  \\\n",
       "803                                      El blocao Velarde       1909   \n",
       "805                                 La bocana de Mar Chica       1909   \n",
       "829                                     A Cultura do Cacau       1909   \n",
       "833                                  De Garraf a Barcelona       1909   \n",
       "837                                   Un día en Xochimilco       1909   \n",
       "...                                                    ...        ...   \n",
       "6973989        Rodolpho Teóphilo - O Legado de um Pioneiro       2015   \n",
       "6974016  De la ilusión al desconcierto: cine colombiano...       2007   \n",
       "6974028                                    Dankyavar Danka       2013   \n",
       "6974039                                             6 Gunn       2017   \n",
       "6974050                     Chico Albuquerque - Revelações       2013   \n",
       "\n",
       "        runtimeMinutes  \n",
       "803                 \\N  \n",
       "805                 \\N  \n",
       "829                 \\N  \n",
       "833                 \\N  \n",
       "837                 \\N  \n",
       "...                ...  \n",
       "6973989             57  \n",
       "6974016            100  \n",
       "6974028             \\N  \n",
       "6974039            116  \n",
       "6974050             49  \n",
       "\n",
       "[233084 rows x 5 columns]"
      ]
     },
     "execution_count": 21,
     "metadata": {},
     "output_type": "execute_result"
    }
   ],
   "source": [
    "imdbTitleBasics[~i2.isin(i1)]"
   ]
  },
  {
   "cell_type": "code",
   "execution_count": 26,
   "metadata": {
    "ExecuteTime": {
     "end_time": "2020-07-16T00:55:02.558810Z",
     "start_time": "2020-07-16T00:55:02.491684Z"
    }
   },
   "outputs": [
    {
     "data": {
      "text/html": [
       "<div>\n",
       "<style scoped>\n",
       "    .dataframe tbody tr th:only-of-type {\n",
       "        vertical-align: middle;\n",
       "    }\n",
       "\n",
       "    .dataframe tbody tr th {\n",
       "        vertical-align: top;\n",
       "    }\n",
       "\n",
       "    .dataframe thead th {\n",
       "        text-align: right;\n",
       "    }\n",
       "</style>\n",
       "<table border=\"1\" class=\"dataframe\">\n",
       "  <thead>\n",
       "    <tr style=\"text-align: right;\">\n",
       "      <th></th>\n",
       "      <th>tconst</th>\n",
       "      <th>averageRating</th>\n",
       "      <th>numVotes</th>\n",
       "    </tr>\n",
       "  </thead>\n",
       "  <tbody>\n",
       "  </tbody>\n",
       "</table>\n",
       "</div>"
      ],
      "text/plain": [
       "Empty DataFrame\n",
       "Columns: [tconst, averageRating, numVotes]\n",
       "Index: []"
      ]
     },
     "execution_count": 26,
     "metadata": {},
     "output_type": "execute_result"
    }
   ],
   "source": [
    "# imdbTitleRatings2 = pd.read_csv('Data/title.ratings.tsv', delimiter='\\t')\n",
    "\n",
    "imdbTitleRatings2[imdbTitleRatings2['tconst']== 'tt0000812']"
   ]
  },
  {
   "cell_type": "markdown",
   "metadata": {},
   "source": [
    "Observation: The \"imdbTitleRatings\" contain data for international data also"
   ]
  },
  {
   "cell_type": "code",
   "execution_count": 135,
   "metadata": {
    "ExecuteTime": {
     "end_time": "2020-07-17T04:06:07.867466Z",
     "start_time": "2020-07-17T04:06:07.860304Z"
    }
   },
   "outputs": [],
   "source": [
    "import requests\n",
    "import matplotlib.pyplot as plt\n",
    "import time\n",
    "%matplotlib inline"
   ]
  },
  {
   "cell_type": "markdown",
   "metadata": {},
   "source": [
    "Scrape a list of movies produced by major production house like Sony, marvel, Disney."
   ]
  },
  {
   "cell_type": "code",
   "execution_count": 211,
   "metadata": {
    "ExecuteTime": {
     "end_time": "2020-07-18T01:06:41.462076Z",
     "start_time": "2020-07-18T01:05:27.119131Z"
    },
    "scrolled": false
   },
   "outputs": [
    {
     "name": "stdout",
     "output_type": "stream",
     "text": [
      "https://www.imdb.com/search/title/?title_type=feature,tv_movie&release_date=1980-01-01,2020-07-01&companies=warner&start=1&ref_=adv_nxt\n",
      "597\n",
      "https://www.imdb.com/search/title/?title_type=feature,tv_movie&release_date=1980-01-01,2020-07-01&companies=warner&start=451\n"
     ]
    },
    {
     "data": {
      "text/plain": [
       "(597, 3)"
      ]
     },
     "execution_count": 211,
     "metadata": {},
     "output_type": "execute_result"
    }
   ],
   "source": [
    "# narrow the list of all the \n",
    "# movie_Dlist = soup.find('div', class_= 'lister-list')\n",
    "\n",
    "def get_name(htmlList):\n",
    "    indv_movie= htmlList.find_all('h3', class_='lister-item-header')\n",
    "    nameList = []\n",
    "    for name in indv_movie:\n",
    "        nameList.append(name.find('a').text)\n",
    "    return nameList\n",
    "\n",
    "def get_gross(htmlList):\n",
    "    indv_movie= htmlList.find_all('p', class_='sort-num_votes-visible')\n",
    "    grossList = []\n",
    "    for name in indv_movie:\n",
    "        if name.find_all('span', class_='text-muted')[-1].text == 'Gross:':\n",
    "            grossList.append(int(name.find_all('span')[-1].attrs['data-value'].replace(',', '')))\n",
    "        else:\n",
    "            grossList.append(None)\n",
    "    return grossList\n",
    "\n",
    "\n",
    "def scrape_imdb(searchThis, company):\n",
    "    base_url = 'https://www.imdb.com'\n",
    "    \n",
    "    search_criteria = searchThis\n",
    "    actualURL = base_url + search_criteria\n",
    "    time.sleep(5) # Times was added to avoid getting locked out\n",
    "    html = requests.get(actualURL)\n",
    "    print(actualURL)\n",
    "    soup = BeautifulSoup(html.content, 'html.parser')\n",
    "    movieName = []\n",
    "    grossList = []\n",
    "    n = 1 # Starting for while loop\n",
    "    page_companydf = pd.DataFrame(columns= ['Title', 'Gross'])\n",
    "    text = soup.find('div', class_= 'desc').find('span').text.split()[-2]\n",
    "    number = int(text.replace(',', '')) # Search for the number of search titles\n",
    "    print(number) # Print for confirmation\n",
    "    while n < round(((number+50)/50)):\n",
    "        movie_Dlist = soup.find('div', class_= 'lister-list')\n",
    "        movieName = get_name(movie_Dlist)\n",
    "        grossList = get_gross(movie_Dlist)\n",
    "        \n",
    "        df = pd.DataFrame([movieName, grossList]).transpose()\n",
    "        df.columns = ['Title', 'Gross']\n",
    "        page_companydf = page_companydf.append(df)\n",
    "        \n",
    "        if soup.find('div', class_= 'desc').find_all('a')[-1].text == 'Next »':\n",
    "            search_criteria = soup.find('div', class_= 'desc').find_all('a')[-1]['href']\n",
    "            \n",
    "            n += 1\n",
    "            actualURL = base_url + search_criteria\n",
    "            html = requests.get(actualURL)\n",
    "            soup = BeautifulSoup(html.content, 'html.parser')\n",
    "            if (n % 10) == 0:\n",
    "                print(actualURL)\n",
    "\n",
    "            time.sleep(5)\n",
    "        else:\n",
    "            break\n",
    "        page_companydf['Company'] = company\n",
    "    return page_companydf\n",
    "\n",
    "companyName = 'warner'\n",
    "searchStr= '/search/title/?title_type=feature,tv_movie&release_date=1980-01-01,2020-07-01&companies=warner&start=1&ref_=adv_nxt'\n",
    "\n",
    "warnerDB = scrape_imdb(searchStr, companyName)\n",
    "# foxDB.shape\n",
    "# sonyDB.shape\n",
    "# dreamworksDB.shape\n",
    "# mgmDB.shape\n",
    "# paramountDB.shape\n",
    "\n",
    "# universalDB.shape\n",
    "# disneyDB.shape\n",
    "# warnerDB.shape"
   ]
  },
  {
   "cell_type": "code",
   "execution_count": 452,
   "metadata": {
    "ExecuteTime": {
     "end_time": "2020-07-18T08:00:12.451859Z",
     "start_time": "2020-07-18T08:00:12.401674Z"
    }
   },
   "outputs": [
    {
     "data": {
      "text/plain": [
       " sony        2284\n",
       " Fox         1935\n",
       " Fox sony      65\n",
       "               33\n",
       "               28\n",
       "  sony          1\n",
       "Name: Company, dtype: int64"
      ]
     },
     "execution_count": 452,
     "metadata": {},
     "output_type": "execute_result"
    }
   ],
   "source": [
    "def dataframe_difference(df1, df2):\n",
    "    \"\"\"Find rows which are different between two DataFrames.\"\"\"\n",
    "    \n",
    "    comparison_df = df1.merge(df2,\n",
    "                              indicator=False,\n",
    "                              on = ['Gross', 'Title'],\n",
    "                              how='outer')\n",
    "    comparison_df['Company'] = comparison_df['Company_x'].str.cat(comparison_df['Company_y'], sep = ' ', na_rep = '')\n",
    "    comparison_df.drop(columns=['Company_x', 'Company_y'], inplace=True)\n",
    "    return comparison_df    \n"
   ]
  },
  {
   "cell_type": "code",
   "execution_count": 453,
   "metadata": {
    "ExecuteTime": {
     "end_time": "2020-07-18T08:03:17.965982Z",
     "start_time": "2020-07-18T08:03:17.748176Z"
    }
   },
   "outputs": [
    {
     "name": "stdout",
     "output_type": "stream",
     "text": [
      "  Company      Gross             Title\n",
      "0     Fox  306169255  Independence Day\n",
      "  Company      Gross                             Title\n",
      "0    sony  142502728  Once Upon a Time... in Hollywood\n",
      "      Company      Gross Title\n",
      "0  dreamworks  159227644  1917\n",
      "  Company     Gross                Title\n",
      "0     mgm  41092328  Clash of the Titans\n",
      "     Company     Gross     Title\n",
      "0  paramount  92186262  The Town\n",
      "     Company Gross              Title\n",
      "0  universal  None  The Invisible Man\n",
      "  Company      Gross      Title\n",
      "0  disney  477373578  Frozen II\n",
      "  Company Gross                      Title\n",
      "0  warner  None  The King of Staten Island\n"
     ]
    },
    {
     "ename": "AttributeError",
     "evalue": "'Series' object has no attribute 'value_count'",
     "output_type": "error",
     "traceback": [
      "\u001b[0;31m---------------------------------------------------------------------------\u001b[0m",
      "\u001b[0;31mAttributeError\u001b[0m                            Traceback (most recent call last)",
      "\u001b[0;32m<ipython-input-453-0a20660f7d63>\u001b[0m in \u001b[0;36m<module>\u001b[0;34m\u001b[0m\n\u001b[1;32m      5\u001b[0m     \u001b[0mCombinedf\u001b[0m \u001b[0;34m=\u001b[0m \u001b[0mdataframe_difference\u001b[0m\u001b[0;34m(\u001b[0m\u001b[0mCombinedf_temp\u001b[0m\u001b[0;34m,\u001b[0m \u001b[0mdb\u001b[0m\u001b[0;34m)\u001b[0m\u001b[0;34m\u001b[0m\u001b[0;34m\u001b[0m\u001b[0m\n\u001b[1;32m      6\u001b[0m     \u001b[0mCombinedf_temp\u001b[0m \u001b[0;34m=\u001b[0m \u001b[0mCombinedf\u001b[0m\u001b[0;34m\u001b[0m\u001b[0;34m\u001b[0m\u001b[0m\n\u001b[0;32m----> 7\u001b[0;31m \u001b[0mCombinedf\u001b[0m\u001b[0;34m.\u001b[0m\u001b[0mCompany\u001b[0m\u001b[0;34m.\u001b[0m\u001b[0mvalue_count\u001b[0m\u001b[0;34m(\u001b[0m\u001b[0;34m)\u001b[0m\u001b[0;34m\u001b[0m\u001b[0;34m\u001b[0m\u001b[0m\n\u001b[0m",
      "\u001b[0;32m/opt/anaconda3/envs/learn-env/lib/python3.6/site-packages/pandas/core/generic.py\u001b[0m in \u001b[0;36m__getattr__\u001b[0;34m(self, name)\u001b[0m\n\u001b[1;32m   5177\u001b[0m             \u001b[0;32mif\u001b[0m \u001b[0mself\u001b[0m\u001b[0;34m.\u001b[0m\u001b[0m_info_axis\u001b[0m\u001b[0;34m.\u001b[0m\u001b[0m_can_hold_identifiers_and_holds_name\u001b[0m\u001b[0;34m(\u001b[0m\u001b[0mname\u001b[0m\u001b[0;34m)\u001b[0m\u001b[0;34m:\u001b[0m\u001b[0;34m\u001b[0m\u001b[0;34m\u001b[0m\u001b[0m\n\u001b[1;32m   5178\u001b[0m                 \u001b[0;32mreturn\u001b[0m \u001b[0mself\u001b[0m\u001b[0;34m[\u001b[0m\u001b[0mname\u001b[0m\u001b[0;34m]\u001b[0m\u001b[0;34m\u001b[0m\u001b[0;34m\u001b[0m\u001b[0m\n\u001b[0;32m-> 5179\u001b[0;31m             \u001b[0;32mreturn\u001b[0m \u001b[0mobject\u001b[0m\u001b[0;34m.\u001b[0m\u001b[0m__getattribute__\u001b[0m\u001b[0;34m(\u001b[0m\u001b[0mself\u001b[0m\u001b[0;34m,\u001b[0m \u001b[0mname\u001b[0m\u001b[0;34m)\u001b[0m\u001b[0;34m\u001b[0m\u001b[0;34m\u001b[0m\u001b[0m\n\u001b[0m\u001b[1;32m   5180\u001b[0m \u001b[0;34m\u001b[0m\u001b[0m\n\u001b[1;32m   5181\u001b[0m     \u001b[0;32mdef\u001b[0m \u001b[0m__setattr__\u001b[0m\u001b[0;34m(\u001b[0m\u001b[0mself\u001b[0m\u001b[0;34m,\u001b[0m \u001b[0mname\u001b[0m\u001b[0;34m,\u001b[0m \u001b[0mvalue\u001b[0m\u001b[0;34m)\u001b[0m\u001b[0;34m:\u001b[0m\u001b[0;34m\u001b[0m\u001b[0;34m\u001b[0m\u001b[0m\n",
      "\u001b[0;31mAttributeError\u001b[0m: 'Series' object has no attribute 'value_count'"
     ]
    }
   ],
   "source": [
    "dbList = [foxDB, sonyDB, dreamworksDB, mgmDB, paramountDB, universalDB, disneyDB, warnerDB]\n",
    "Combinedf_temp = pd.DataFrame(columns=['Company', 'Gross', 'Title'])\n",
    "for db in dbList:\n",
    "    print(db.head(1))\n",
    "    Combinedf = dataframe_difference(Combinedf_temp, db)\n",
    "    Combinedf_temp = Combinedf"
   ]
  },
  {
   "cell_type": "code",
   "execution_count": 484,
   "metadata": {
    "ExecuteTime": {
     "end_time": "2020-07-18T14:08:44.517577Z",
     "start_time": "2020-07-18T14:08:44.501802Z"
    }
   },
   "outputs": [
    {
     "data": {
      "text/html": [
       "<div>\n",
       "<style scoped>\n",
       "    .dataframe tbody tr th:only-of-type {\n",
       "        vertical-align: middle;\n",
       "    }\n",
       "\n",
       "    .dataframe tbody tr th {\n",
       "        vertical-align: top;\n",
       "    }\n",
       "\n",
       "    .dataframe thead th {\n",
       "        text-align: right;\n",
       "    }\n",
       "</style>\n",
       "<table border=\"1\" class=\"dataframe\">\n",
       "  <thead>\n",
       "    <tr style=\"text-align: right;\">\n",
       "      <th></th>\n",
       "      <th>Gross</th>\n",
       "      <th>Title</th>\n",
       "      <th>Company</th>\n",
       "    </tr>\n",
       "  </thead>\n",
       "  <tbody>\n",
       "  </tbody>\n",
       "</table>\n",
       "</div>"
      ],
      "text/plain": [
       "Empty DataFrame\n",
       "Columns: [Gross, Title, Company]\n",
       "Index: []"
      ]
     },
     "execution_count": 484,
     "metadata": {},
     "output_type": "execute_result"
    }
   ],
   "source": [
    "Combinedf['Company']= Combinedf['Company'].str.strip()\n",
    "Combinedf.loc[Combinedf.duplicated(subset=['Title'], keep=False)]\n",
    "Combinedf.drop_duplicates(subset=['Title'], keep='last', inplace=True)"
   ]
  },
  {
   "cell_type": "code",
   "execution_count": 485,
   "metadata": {
    "ExecuteTime": {
     "end_time": "2020-07-18T14:09:04.426522Z",
     "start_time": "2020-07-18T14:09:04.416082Z"
    }
   },
   "outputs": [
    {
     "data": {
      "text/plain": [
       "(8013, 3)"
      ]
     },
     "execution_count": 485,
     "metadata": {},
     "output_type": "execute_result"
    }
   ],
   "source": [
    "Combinedf.shape"
   ]
  },
  {
   "cell_type": "markdown",
   "metadata": {},
   "source": [
    "Combine all the IMDB data set into one. "
   ]
  },
  {
   "cell_type": "code",
   "execution_count": 510,
   "metadata": {
    "ExecuteTime": {
     "end_time": "2020-07-18T15:42:04.619202Z",
     "start_time": "2020-07-18T15:42:04.612263Z"
    }
   },
   "outputs": [
    {
     "data": {
      "text/plain": [
       "(320596, 7)"
      ]
     },
     "execution_count": 510,
     "metadata": {},
     "output_type": "execute_result"
    }
   ],
   "source": [
    "# imbd_join = imdbTitleBasics.merge(imdbTitleRatings, how='left', on='tconst')\n",
    "imbd_join.shape"
   ]
  },
  {
   "cell_type": "code",
   "execution_count": 509,
   "metadata": {
    "ExecuteTime": {
     "end_time": "2020-07-18T15:37:41.024350Z",
     "start_time": "2020-07-18T15:37:40.401925Z"
    }
   },
   "outputs": [
    {
     "data": {
      "text/html": [
       "<div>\n",
       "<style scoped>\n",
       "    .dataframe tbody tr th:only-of-type {\n",
       "        vertical-align: middle;\n",
       "    }\n",
       "\n",
       "    .dataframe tbody tr th {\n",
       "        vertical-align: top;\n",
       "    }\n",
       "\n",
       "    .dataframe thead th {\n",
       "        text-align: right;\n",
       "    }\n",
       "</style>\n",
       "<table border=\"1\" class=\"dataframe\">\n",
       "  <thead>\n",
       "    <tr style=\"text-align: right;\">\n",
       "      <th></th>\n",
       "      <th>titleId</th>\n",
       "      <th>region</th>\n",
       "      <th>language</th>\n",
       "    </tr>\n",
       "  </thead>\n",
       "  <tbody>\n",
       "    <tr>\n",
       "      <td>170354</td>\n",
       "      <td>tt2250912</td>\n",
       "      <td>44</td>\n",
       "      <td>44</td>\n",
       "    </tr>\n",
       "  </tbody>\n",
       "</table>\n",
       "</div>"
      ],
      "text/plain": [
       "          titleId  region  language\n",
       "170354  tt2250912      44        44"
      ]
     },
     "execution_count": 509,
     "metadata": {},
     "output_type": "execute_result"
    }
   ],
   "source": [
    "imdbTitleAkas['region'].value_counts()\n",
    "# imdbTitleAkas[imdbTitleAkas['titleId']=='tt2250912']\n",
    "imdbTitleAkasgroupbydb = imdbTitleAkas.groupby('titleId', as_index=False).agg({'region': 'count', 'language': 'count'})\n",
    "imdbTitleAkasgroupbydb.loc[testdb['titleId']=='tt2250912']"
   ]
  },
  {
   "cell_type": "code",
   "execution_count": 511,
   "metadata": {
    "ExecuteTime": {
     "end_time": "2020-07-18T15:42:36.628891Z",
     "start_time": "2020-07-18T15:42:36.204419Z"
    }
   },
   "outputs": [
    {
     "name": "stdout",
     "output_type": "stream",
     "text": [
      "(320596, 10)\n"
     ]
    },
    {
     "data": {
      "text/html": [
       "<div>\n",
       "<style scoped>\n",
       "    .dataframe tbody tr th:only-of-type {\n",
       "        vertical-align: middle;\n",
       "    }\n",
       "\n",
       "    .dataframe tbody tr th {\n",
       "        vertical-align: top;\n",
       "    }\n",
       "\n",
       "    .dataframe thead th {\n",
       "        text-align: right;\n",
       "    }\n",
       "</style>\n",
       "<table border=\"1\" class=\"dataframe\">\n",
       "  <thead>\n",
       "    <tr style=\"text-align: right;\">\n",
       "      <th></th>\n",
       "      <th>tconst</th>\n",
       "      <th>primaryTitle</th>\n",
       "      <th>originalTitle</th>\n",
       "      <th>startYear</th>\n",
       "      <th>runtimeMinutes</th>\n",
       "      <th>averageRating</th>\n",
       "      <th>numVotes</th>\n",
       "      <th>titleId</th>\n",
       "      <th>region</th>\n",
       "      <th>language</th>\n",
       "    </tr>\n",
       "  </thead>\n",
       "  <tbody>\n",
       "    <tr>\n",
       "      <td>0</td>\n",
       "      <td>tt0015724</td>\n",
       "      <td>Dama de noche</td>\n",
       "      <td>Dama de noche</td>\n",
       "      <td>1993</td>\n",
       "      <td>102</td>\n",
       "      <td>6.2</td>\n",
       "      <td>20.0</td>\n",
       "      <td>tt0015724</td>\n",
       "      <td>4.0</td>\n",
       "      <td>4.0</td>\n",
       "    </tr>\n",
       "    <tr>\n",
       "      <td>1</td>\n",
       "      <td>tt0016906</td>\n",
       "      <td>Frivolinas</td>\n",
       "      <td>Frivolinas</td>\n",
       "      <td>2014</td>\n",
       "      <td>80</td>\n",
       "      <td>5.6</td>\n",
       "      <td>15.0</td>\n",
       "      <td>tt0016906</td>\n",
       "      <td>2.0</td>\n",
       "      <td>2.0</td>\n",
       "    </tr>\n",
       "    <tr>\n",
       "      <td>2</td>\n",
       "      <td>tt0035423</td>\n",
       "      <td>Kate &amp; Leopold</td>\n",
       "      <td>Kate &amp; Leopold</td>\n",
       "      <td>2001</td>\n",
       "      <td>118</td>\n",
       "      <td>6.4</td>\n",
       "      <td>77469.0</td>\n",
       "      <td>tt0035423</td>\n",
       "      <td>37.0</td>\n",
       "      <td>37.0</td>\n",
       "    </tr>\n",
       "    <tr>\n",
       "      <td>3</td>\n",
       "      <td>tt0036606</td>\n",
       "      <td>Another Time, Another Place</td>\n",
       "      <td>Another Time, Another Place</td>\n",
       "      <td>1983</td>\n",
       "      <td>118</td>\n",
       "      <td>6.5</td>\n",
       "      <td>251.0</td>\n",
       "      <td>tt0036606</td>\n",
       "      <td>12.0</td>\n",
       "      <td>12.0</td>\n",
       "    </tr>\n",
       "    <tr>\n",
       "      <td>4</td>\n",
       "      <td>tt0038687</td>\n",
       "      <td>Let There Be Light</td>\n",
       "      <td>Let There Be Light</td>\n",
       "      <td>1980</td>\n",
       "      <td>58</td>\n",
       "      <td>7.4</td>\n",
       "      <td>1501.0</td>\n",
       "      <td>tt0038687</td>\n",
       "      <td>12.0</td>\n",
       "      <td>12.0</td>\n",
       "    </tr>\n",
       "  </tbody>\n",
       "</table>\n",
       "</div>"
      ],
      "text/plain": [
       "      tconst                 primaryTitle                originalTitle  \\\n",
       "0  tt0015724                Dama de noche                Dama de noche   \n",
       "1  tt0016906                   Frivolinas                   Frivolinas   \n",
       "2  tt0035423               Kate & Leopold               Kate & Leopold   \n",
       "3  tt0036606  Another Time, Another Place  Another Time, Another Place   \n",
       "4  tt0038687           Let There Be Light           Let There Be Light   \n",
       "\n",
       "   startYear runtimeMinutes  averageRating  numVotes    titleId  region  \\\n",
       "0       1993            102            6.2      20.0  tt0015724     4.0   \n",
       "1       2014             80            5.6      15.0  tt0016906     2.0   \n",
       "2       2001            118            6.4   77469.0  tt0035423    37.0   \n",
       "3       1983            118            6.5     251.0  tt0036606    12.0   \n",
       "4       1980             58            7.4    1501.0  tt0038687    12.0   \n",
       "\n",
       "   language  \n",
       "0       4.0  \n",
       "1       2.0  \n",
       "2      37.0  \n",
       "3      12.0  \n",
       "4      12.0  "
      ]
     },
     "execution_count": 511,
     "metadata": {},
     "output_type": "execute_result"
    }
   ],
   "source": [
    "imbd_major_join = imbd_join.merge(imdbTitleAkasgroupbydb, how='left', left_on='tconst', right_on='titleId')\n",
    "print(imbd_major_join.shape)\n",
    "imbd_major_join.head()"
   ]
  },
  {
   "cell_type": "code",
   "execution_count": 516,
   "metadata": {
    "ExecuteTime": {
     "end_time": "2020-07-18T15:51:21.355496Z",
     "start_time": "2020-07-18T15:51:20.999536Z"
    }
   },
   "outputs": [
    {
     "name": "stdout",
     "output_type": "stream",
     "text": [
      "<class 'pandas.core.frame.DataFrame'>\n",
      "Int64Index: 320596 entries, 0 to 320595\n",
      "Data columns (total 9 columns):\n",
      "tconst            320596 non-null object\n",
      "primaryTitle      320596 non-null object\n",
      "originalTitle     320596 non-null object\n",
      "startYear         320596 non-null int32\n",
      "runtimeMinutes    320596 non-null object\n",
      "averageRating     176967 non-null float64\n",
      "numVotes          176967 non-null float64\n",
      "region            301160 non-null float64\n",
      "language          301160 non-null float64\n",
      "dtypes: float64(4), int32(1), object(4)\n",
      "memory usage: 23.2+ MB\n"
     ]
    }
   ],
   "source": [
    "imbd_major_join.drop(columns='titleId', inplace=True)\n",
    "imbd_major_join.astype({'numVotes':'int32','region':'int32','language':'int32'},errors='ignore').info()"
   ]
  },
  {
   "cell_type": "code",
   "execution_count": 524,
   "metadata": {
    "ExecuteTime": {
     "end_time": "2020-07-18T16:12:36.552409Z",
     "start_time": "2020-07-18T16:11:31.607946Z"
    }
   },
   "outputs": [],
   "source": [
    "# Final tables for use are\n",
    "imbd_major_join.to_csv('imdb_master.csv', index=False)\n",
    "imdbTitlePrincipals.to_csv('1980_movie_crew.csv', index=False) \n",
    "imdbTitleCrew.to_csv('1980_movie_crew_short.csv', index=False)\n",
    "imdbNameBasics.to_csv('1980_crew.csv', index=False)\n",
    "\n"
   ]
  },
  {
   "cell_type": "code",
   "execution_count": null,
   "metadata": {},
   "outputs": [],
   "source": []
  }
 ],
 "metadata": {
  "kernelspec": {
   "display_name": "learn-env",
   "language": "python",
   "name": "learn-env"
  },
  "language_info": {
   "codemirror_mode": {
    "name": "ipython",
    "version": 3
   },
   "file_extension": ".py",
   "mimetype": "text/x-python",
   "name": "python",
   "nbconvert_exporter": "python",
   "pygments_lexer": "ipython3",
   "version": "3.6.9"
  },
  "toc": {
   "base_numbering": 1,
   "nav_menu": {},
   "number_sections": true,
   "sideBar": true,
   "skip_h1_title": false,
   "title_cell": "Table of Contents",
   "title_sidebar": "Contents",
   "toc_cell": false,
   "toc_position": {},
   "toc_section_display": true,
   "toc_window_display": false
  },
  "varInspector": {
   "cols": {
    "lenName": 16,
    "lenType": 16,
    "lenVar": 40
   },
   "kernels_config": {
    "python": {
     "delete_cmd_postfix": "",
     "delete_cmd_prefix": "del ",
     "library": "var_list.py",
     "varRefreshCmd": "print(var_dic_list())"
    },
    "r": {
     "delete_cmd_postfix": ") ",
     "delete_cmd_prefix": "rm(",
     "library": "var_list.r",
     "varRefreshCmd": "cat(var_dic_list()) "
    }
   },
   "types_to_exclude": [
    "module",
    "function",
    "builtin_function_or_method",
    "instance",
    "_Feature"
   ],
   "window_display": false
  }
 },
 "nbformat": 4,
 "nbformat_minor": 2
}
